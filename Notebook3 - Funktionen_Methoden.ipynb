{
 "cells": [
  {
   "cell_type": "markdown",
   "metadata": {},
   "source": [
    "# Funktionen\n",
    "In den vorherigen Skripten wurden in den Beispielen bereits einige Methoden, Funktionen und Loops benutzt.\n",
    "Diese werden nun in diesem Notebook grundlegender eingeführt."
   ]
  },
  {
   "cell_type": "markdown",
   "metadata": {},
   "source": [
    "Eine Funktion ist ein Codeblock, der ausgeführt wird, wenn die Funktion aufgerufen wird. Mithilfe von Funktionen können bestimmte definierte Aufgaben gelöst werden.\n",
    "Einer Funktion können Parameter übergeben werden, welche beeinflussen, was in der Funktion passiert und somit auch den Output dieser Funktion beeinflussen.\n",
    "Um eine Funktion zu schreiben, wird sie zunächst definiert, dann wird festgelegt was die Funktion machen soll.\n",
    "\n",
    "In der Theorie ist eine Funktion eine Verkettung des Inputs (zur Verfügung stehende Information) und Outputs (gewünschte Information). Dabei wird durch Aufgaben/Funktionen aus der zur Verfügung stehenden Information der Output erzeugt. \n",
    "\n",
    "Beim Schreiben von Funktionen ist es am besten eine Funktion durch das Topdown-Prinzip zu programmieren. \n",
    "Hierbei wird nach folgendem Workflow vorgegangen:\n",
    "* Aufgabe definieren\n",
    "* in kleinere Teilaufgaben (Funktion!) einteilen\n",
    "* Reihenfolge der Teilaufgaben festlegen\n",
    "* Gemeinsamkeiten der Teilaufgaben in allgemeine Ansätze aufteilen\n",
    "* Wiederhole dies für alle Teilaufgaben\n",
    "\n",
    "Man beginnt mit Pseudo-Code für die Funktion, welche die Lösung der Unteraufgabe verarbeitet. (Scheipl, 2019)\n",
    "\n",
    "Allgemeine Hinweise zum Funktionen schreiben:\n",
    "\n",
    "* Inputs checken (assert)\n",
    "* Funktionen sollten immer denselben Output haben, wenn man ihnen dasselbe übergibt (Unabhängigkeit von globalen Variablen, nur von Argumenten abhängig\n",
    "* lange Parameterlisten/Funktionen &rarr; aufteilen in Unterfunktionen\n",
    "* C & P &rarr; Funktion (DRY, Don't repeat yourself)\n",
    "* Keep it simple (KIS) \n",
    "    + Programme werden von selbst schneller\n",
    "    + lieber transparent und korrekt als clever und effizient\n",
    "    + keine Überflüssige Komplexität\n",
    "\n",
    "\n",
    "   "
   ]
  },
  {
   "cell_type": "code",
   "execution_count": 1,
   "metadata": {
    "is_executing": true
   },
   "outputs": [],
   "source": [
    "\n",
    "# if (builds_wall(x)):\n",
    "#               if (offends_people(x)):\n",
    "#                            if (x[\"hair\"][\"color\"] == \"orange\"):\n",
    "#                                          if (not is_finite(x[\"hair_color\"])):\n",
    "#                                                        if (x[\"sexism\"] > 100):\n",
    "#                                                                    # ...\n",
    "\n",
    "\n",
    "# besser:\n",
    "\n",
    "# def makes_america_great(x):\n",
    "#     builds_wall(x) & offends_people(x)\n",
    "#  ... more definitions here\n",
    "\n",
    "# def is_donald(x):\n",
    "#   has_weird_orange_hair(x) & grabs_pussy(x) & makes_america_great(x)\n",
    "#    # ...\n",
    "#     if (is_donald(x)):\n",
    "#       # ...\n"
   ]
  },
  {
   "cell_type": "markdown",
   "metadata": {},
   "source": [
    "\n",
    "Die Funktion `.format()` ermöglicht es, ein Objekt, welches sich ändern kann, in einen vorgefertigten String einzufügen. Die Position des Objekts im String wird durch geschweifte Klammern angezeigt."
   ]
  },
  {
   "cell_type": "code",
   "execution_count": 2,
   "metadata": {
    "ExecuteTime": {
     "end_time": "2023-06-13T20:42:59.053719900Z",
     "start_time": "2023-06-13T20:42:58.819421200Z"
    }
   },
   "outputs": [
    {
     "name": "stdout",
     "output_type": "stream",
     "text": [
      "type: <function my_first_function at 0x0000029B1D1CAB00>\n",
      "Hello world!\n"
     ]
    }
   ],
   "source": [
    "def my_first_function():\n",
    "    print('Hello world!')\n",
    "\n",
    "print(\"type: {}\".format(my_first_function))\n",
    "\n",
    "my_first_function()  # Funktion aufrufen"
   ]
  },
  {
   "cell_type": "markdown",
   "metadata": {},
   "source": [
    "### Argumente\n",
    "* Man kann Funktionen Argumente übergeben, welche den Funktionsoutput beeeinflussen (sollten!).\n",
    "* Der Funktion greet_us müssen zwei Namen übergeben werden, damit sie funktioniert."
   ]
  },
  {
   "cell_type": "code",
   "execution_count": 3,
   "metadata": {
    "ExecuteTime": {
     "end_time": "2023-06-13T20:43:05.441431200Z",
     "start_time": "2023-06-13T20:43:03.520248800Z"
    }
   },
   "outputs": [
    {
     "name": "stdout",
     "output_type": "stream",
     "text": [
      "Hallo Max Mueller und Gustav Gans!\n"
     ]
    }
   ],
   "source": [
    "def greet_us(name1, name2):\n",
    "    print('Hallo {} und {}!'.format(name1, name2))\n",
    "\n",
    "greet_us('Max Mueller', 'Gustav Gans')"
   ]
  },
  {
   "cell_type": "code",
   "execution_count": 4,
   "metadata": {
    "ExecuteTime": {
     "end_time": "2023-06-13T20:43:12.945751800Z",
     "start_time": "2023-06-13T20:43:12.555251700Z"
    }
   },
   "outputs": [
    {
     "name": "stdout",
     "output_type": "stream",
     "text": [
      "gross und kleinbuchstaben\n"
     ]
    }
   ],
   "source": [
    "# Funktion mit Rückgabewert\n",
    "def strip_and_lowercase(original):\n",
    "    modified = original.strip().lower()\n",
    "    return modified # Anders als in R hier notwendig\n",
    "\n",
    "haesslicher_string = '  gross UND KLeinBUchStaben '\n",
    "pretty = strip_and_lowercase(haesslicher_string)\n",
    "# print('pretty: {}'.format(pretty))\n",
    "print(pretty)"
   ]
  },
  {
   "cell_type": "markdown",
   "metadata": {},
   "source": [
    "### Argumente\n",
    "Die Reihenfolge der Argumente kann durch das Nennen des Namens des Argumentes variiert werden. Ansonsten werden die übergebenen Werte in der Reihenfolge zugeordnet, wie sie übergeben werden."
   ]
  },
  {
   "cell_type": "code",
   "execution_count": 5,
   "metadata": {
    "ExecuteTime": {
     "end_time": "2023-06-13T20:43:22.344990600Z",
     "start_time": "2023-06-13T20:43:22.110689900Z"
    }
   },
   "outputs": [
    {
     "name": "stdout",
     "output_type": "stream",
     "text": [
      "4\n",
      "4\n",
      "4\n",
      "4\n"
     ]
    }
   ],
   "source": [
    "def my_fancy_calculation(first, second, third):\n",
    "    return first + second - third \n",
    "\n",
    "print(my_fancy_calculation(3, 2, 1))\n",
    "\n",
    "print(my_fancy_calculation(first = 3, second = 2, third = 1))\n",
    "\n",
    "# Bei Keyword-Argumenten kann die Reihenfolge vertauscht werden\n",
    "print(my_fancy_calculation(third = 1, first = 3, second = 2))\n",
    "\n",
    "# Argumente und Keyword-Argumente können gemeinsam verwendet werden,\n",
    "# allerdings muss mit Argumenten begonnen werden\n",
    "print(my_fancy_calculation(3, third = 1, second = 2))  "
   ]
  },
  {
   "cell_type": "markdown",
   "metadata": {},
   "source": [
    "### Argumente mit default Werten"
   ]
  },
  {
   "cell_type": "code",
   "execution_count": 6,
   "metadata": {
    "ExecuteTime": {
     "end_time": "2023-06-13T20:43:28.593933300Z",
     "start_time": "2023-06-13T20:43:28.546103900Z"
    }
   },
   "outputs": [
    {
     "name": "stdout",
     "output_type": "stream",
     "text": [
      "{'name': 'Anna Voss', 'age': 47, 'salary': 650}\n",
      "{'name': 'Lisa Schmidt', 'age': 22, 'salary': 'hacker', 'job': 10000}\n"
     ]
    }
   ],
   "source": [
    "def create_person_info(name, age, salary=650, job=None):\n",
    "    info = {'name': name, 'age': age, 'salary': salary}\n",
    "    \n",
    "    # der 'job' key wird nur hinzugefügt, wenn er als Parameter bereitgestellt wird \n",
    "    if job:  \n",
    "        info.update(dict(job=job))\n",
    "        \n",
    "    return info\n",
    "\n",
    "person1 = create_person_info('Anna Voss', 47)  # Standard-Werte für Job und Salary werden verwendet\n",
    "person2 = create_person_info('Lisa Schmidt', 22, 'hacker', 10000)\n",
    "print(person1)\n",
    "print(person2)"
   ]
  },
  {
   "cell_type": "markdown",
   "metadata": {},
   "source": [
    "**Verwende keine veränderlichen Objekte als default-Argumente!**\n",
    "\n",
    "&rarr; Eine Funktion sollte bei gleichen übergebenen Argumenten immer (!) denselben Output haben.\n"
   ]
  },
  {
   "cell_type": "code",
   "execution_count": 7,
   "metadata": {
    "ExecuteTime": {
     "end_time": "2023-06-13T20:43:38.578083500Z",
     "start_time": "2023-06-13T20:43:38.527018600Z"
    }
   },
   "outputs": [
    {
     "name": "stdout",
     "output_type": "stream",
     "text": [
      "[100]\n",
      "[100, 105]\n",
      "[100, 105]\n",
      "[]\n",
      "[100, 105]\n",
      "[100, 105, 110]\n"
     ]
    }
   ],
   "source": [
    "def append_if_multiple_of_five(number, magical_list=[]):\n",
    "    if number % 5 == 0:\n",
    "        magical_list.append(number)\n",
    "    return magical_list\n",
    "\n",
    "print(append_if_multiple_of_five(100))\n",
    "print(append_if_multiple_of_five(105))\n",
    "print(append_if_multiple_of_five(123))\n",
    "print(append_if_multiple_of_five(123, []))\n",
    "print(append_if_multiple_of_five(123))\n",
    "print(append_if_multiple_of_five(110))"
   ]
  },
  {
   "cell_type": "markdown",
   "metadata": {},
   "source": [
    "Stattdessen:"
   ]
  },
  {
   "cell_type": "code",
   "execution_count": 8,
   "metadata": {
    "ExecuteTime": {
     "end_time": "2023-06-13T20:43:43.721837800Z",
     "start_time": "2023-06-13T20:43:43.706214800Z"
    }
   },
   "outputs": [
    {
     "name": "stdout",
     "output_type": "stream",
     "text": [
      "[100]\n",
      "[105]\n",
      "[]\n",
      "[]\n",
      "[]\n"
     ]
    }
   ],
   "source": [
    "def append_if_multiple_of_five(number, magical_list = None):\n",
    "    if not magical_list:\n",
    "        magical_list = []\n",
    "    if number % 5 == 0:\n",
    "        magical_list.append(number)\n",
    "    return magical_list\n",
    "\n",
    "print(append_if_multiple_of_five(100))\n",
    "print(append_if_multiple_of_five(105))\n",
    "print(append_if_multiple_of_five(123))\n",
    "print(append_if_multiple_of_five(123, []))\n",
    "print(append_if_multiple_of_five(123))"
   ]
  },
  {
   "cell_type": "markdown",
   "metadata": {},
   "source": [
    "### [`pass`](https://docs.python.org/3/reference/simple_stmts.html#the-pass-statement) statement\n",
    "`pass` ist eine Anweisung, die nichts tut, wenn sie ausgeführt wird. Sie kann z.B. als Platzhalter verwendet werden, um den Code beim Entwerfen von Funktionen und/ oder Klassen syntaktisch korrekt zu halten. Folgendes ist zum Beispiel gültiger Python-Code:"
   ]
  },
  {
   "cell_type": "code",
   "execution_count": 1,
   "metadata": {
    "ExecuteTime": {
     "end_time": "2023-06-13T20:43:50.540417100Z",
     "start_time": "2023-06-13T20:43:50.509177400Z"
    },
    "metadata": {}
   },
   "outputs": [],
   "source": [
    "def my_function(some_argument):\n",
    "    pass\n",
    "\n",
    "def my_other_function():\n",
    "    pass"
   ]
  },
  {
   "cell_type": "markdown",
   "metadata": {},
   "source": [
    "### Lambda Funktionen\n",
    "\n",
    "Lambda-Funktionen (auch als anonyme Funktionen bekannt) sind Funktionen ohne Namen in Python, die normalerweise für einfache und kurzlebige Operationen bzw Funktionen verwendet werden, um diese in einem einzigen Ausdruck auszuführen.\n",
    "Anders als \"normale\" Funktionen werden sie nicht mit 'def', sondern mit dem Schlüsselwort 'lambda' definiert, gefolgt von den jeweiligen Argumenten und einem Ausdruck."
   ]
  },
  {
   "cell_type": "code",
   "execution_count": 2,
   "metadata": {
    "is_executing": true,
    "metadata": {}
   },
   "outputs": [
    {
     "data": {
      "text/plain": [
       "<function __main__.<lambda>(x)>"
      ]
     },
     "execution_count": 2,
     "metadata": {},
     "output_type": "execute_result"
    }
   ],
   "source": [
    "# Eine normale python Funktion:\n",
    "def funktion(x):\n",
    "    return x * x\n",
    "# Als Lambda-Funktion:\n",
    "lambda x: x * x"
   ]
  },
  {
   "cell_type": "code",
   "execution_count": 8,
   "metadata": {
    "metadata": {}
   },
   "outputs": [
    {
     "name": "stdout",
     "output_type": "stream",
     "text": [
      "[1, 4, 9, 16, 25]\n"
     ]
    }
   ],
   "source": [
    "numbers = [1, 2, 3, 4, 5] # Beispiel einer normalen Funktion um Zahlen zu quadrieren\n",
    "\n",
    "def square(x):\n",
    "    return x**2\n",
    "\n",
    "squared_numbers = list(map(square, numbers))\n",
    "print(squared_numbers)"
   ]
  },
  {
   "cell_type": "code",
   "execution_count": 12,
   "metadata": {},
   "outputs": [
    {
     "name": "stdout",
     "output_type": "stream",
     "text": [
      "[1, 4, 9, 16, 25]\n"
     ]
    }
   ],
   "source": [
    "# Mit Lambda Funktion:\n",
    "\n",
    "numbers = [1, 2, 3, 4, 5]\n",
    "\n",
    "squared_numbers = list(map(lambda x: x**2, numbers))\n",
    "print(squared_numbers)"
   ]
  },
  {
   "cell_type": "markdown",
   "metadata": {},
   "source": [
    "Hier wird die map()-Funktion verwendet, um die Lambda-Funktion lambda x: x**2 auf jedes Element der numbers-Liste anzuwenden. Die Lambda-Funktion nimmt eine Zahl x entgegen und gibt das Quadrat davon zurück. Das Ergebnis wird in der squared_numbers-Liste gespeichert.\n",
    "\n",
    "Der Vorteil der Lambda-Funktion besteht darin, dass man die Quadratfunktion in diesem Fall direkt in der map()-Funktion definieren kann, ohne eine separate Funktion erstellen zu müssen. Dies macht den Code kompakter und lesbarer."
   ]
  },
  {
   "cell_type": "markdown",
   "metadata": {},
   "source": [
    "### Docstrings\n",
    "Strings zur Dokumentation von Funktionen, Methoden, Modulen und Variablen. "
   ]
  },
  {
   "cell_type": "code",
   "execution_count": 10,
   "metadata": {
    "metadata": {}
   },
   "outputs": [
    {
     "name": "stdout",
     "output_type": "stream",
     "text": [
      "Help on function print_sum in module __main__:\n",
      "\n",
      "print_sum(val1, val2)\n",
      "    Function which prints the sum of given arguments.\n",
      "\n",
      "sum:5\n"
     ]
    }
   ],
   "source": [
    "def print_sum(val1, val2):\n",
    "    \"\"\"Function which prints the sum of given arguments.\"\"\"\n",
    "    print('sum:' + str(val1 + val2))\n",
    "\n",
    "help(print_sum)\n",
    "\n",
    "print_sum(2, 3)"
   ]
  },
  {
   "cell_type": "code",
   "execution_count": 14,
   "metadata": {},
   "outputs": [
    {
     "name": "stdout",
     "output_type": "stream",
     "text": [
      "Help on function calculate_sum in module __main__:\n",
      "\n",
      "calculate_sum(val1, val2)\n",
      "    This is a longer docstring defining also the args and the return value. \n",
      "    \n",
      "    Args:\n",
      "        val1: The first parameter.\n",
      "        val2: The second parameter.\n",
      "    \n",
      "    Returns:\n",
      "        The sum of val1 and val2.\n",
      "\n"
     ]
    }
   ],
   "source": [
    "def calculate_sum(val1, val2):\n",
    "    \"\"\"This is a longer docstring defining also the args and the return value. \n",
    "\n",
    "    Args:\n",
    "        val1: The first parameter.\n",
    "        val2: The second parameter.\n",
    "\n",
    "    Returns:\n",
    "        The sum of val1 and val2.\n",
    "        \n",
    "    \"\"\"\n",
    "    return val1 + val2\n",
    "\n",
    "help(calculate_sum)"
   ]
  },
  {
   "cell_type": "markdown",
   "metadata": {},
   "source": [
    "## Methoden\n",
    "Funktionen innerhalb von Klassen werden Methoden genannt. Sie werden ähnlich verwendet wie Funktionen. Funktionen und Methoden unterscheiden sich dadurch, dass Methoden immer mit einem Objekt bzw. einer Klasse assoziiert sind, dies ist bei Funktionen nicht der Fall. Bei den meisten Methoden lautet daher der erste Parameter immer *self*. Wenn die Methode ausgeführt wird, wird *self* automatisch durch die Instanz (das Objekt) ersetzt.\n",
    "Man unterscheidet zwischen drei unterschiedlichen Methodentypen: \n",
    "* Instanzmethoden\n",
    "* Klassenmethoden\n",
    "* Statische Methoden"
   ]
  },
  {
   "cell_type": "markdown",
   "metadata": {},
   "source": [
    "### Instanzmethoden\n",
    "* häufigste Methode, die in Klassen verwendet wird\n",
    "* wird verwendet um Details einer Instanz (ein Objekt einer bestimmten Klasse) zu erhalten oder festzulegen\n",
    "* Eine Instanzvariable ist eine Variable, die innerhalb des Konstruktors oder innerhalb einer Methode definiert ist und nur zur aktuellen Instanz einer Klasse gehört und sich von Objekt zu Objekt unterscheidet.\n",
    "* Jede Methode, die in einer Klasse erstellt wird, ist eine Instanzmethode, sofern man es nicht explizit als andere Methode festlegt. So wird eine Instanzmethode erstellt:"
   ]
  },
  {
   "cell_type": "code",
   "execution_count": 15,
   "metadata": {},
   "outputs": [],
   "source": [
    "class My_class:\n",
    "  def instance_method(self):\n",
    "    return \"This is an instance method.\""
   ]
  },
  {
   "cell_type": "markdown",
   "metadata": {},
   "source": [
    "Um die Methode nun auszuführen, müssen wir sie einem Objekt zuweisen."
   ]
  },
  {
   "cell_type": "code",
   "execution_count": 16,
   "metadata": {},
   "outputs": [
    {
     "data": {
      "text/plain": [
       "'This is an instance method.'"
      ]
     },
     "execution_count": 16,
     "metadata": {},
     "output_type": "execute_result"
    }
   ],
   "source": [
    "objekt = My_class()\n",
    "objekt.instance_method()"
   ]
  },
  {
   "cell_type": "markdown",
   "metadata": {},
   "source": [
    "#### `__init__()`\n",
    "`__init__()` ist eine spezielle Methode, ein sogenannter Konstruktor, die für die Initialisierung von Instanzen der Klasse verwendet wird. Sie wird aufgerufen, wenn ein Objekt der Klasse erstellt wird. Durch die `__init__()` Methode, können Attribute innerhalb einer Klasse initialisiert werden.\n",
    "\n",
    "Erst wird die Klasse durch class definiert, dann können mit `__init__()` Attribute übergeben werden. Diese können dann, wenn sie einem Objekt zugewiesen werden, verwendet werden. Dies ist im zweiten Beispiel zu erkennen, in dem zwei Attribute der Klasse übergeben werden. Diese können ausgegeben werden, indem sie erst dem Objekt e zugewiesen werden und dieses dann zusammen mit der Methode ausgeführt wird. In dem ersten Beispiel, werden keine zusätzlichen Attribute initialisiert, sodass der code example = Example() nur den in der Methode festgelegten print-Befehl ausführt.\n"
   ]
  },
  {
   "cell_type": "code",
   "execution_count": 17,
   "metadata": {},
   "outputs": [
    {
     "name": "stdout",
     "output_type": "stream",
     "text": [
      "creating instance of Example\n",
      "Now we are inside __init__\n",
      "instance created\n"
     ]
    }
   ],
   "source": [
    "class Example:\n",
    "    def __init__(self):\n",
    "        print('Now we are inside __init__')\n",
    "\n",
    "print('creating instance of Example')\n",
    "example = Example()\n",
    "print('instance created')"
   ]
  },
  {
   "cell_type": "markdown",
   "metadata": {},
   "source": [
    "`__init__()` wird normalerweise für die Initialisierung von Instanzvariablen einer Klasse verwendet. Diese können als Argumente hinter `self` aufgeführt werden. Um auf diese Instanzvariablen später während der Verwendung der Methode zugreifen zu können, müssen sie in `self` gespeichert werden. `self` ist das erste Argument der Methoden der Klasse, und somit Zugang zu den Instanzvariablen und weiteren Methoden. In diesem Beispiel werden der Methode zwei Attribute, also zwei Instanzvariablen, übergeben. Diese werden mit `self` an die Methode gebunden. Durch 'def print_variables(self):..' wird definiert was durch die Methode ausgeführt werden soll. In diesem Fall sollen demnach die beiden übergebenen Variablen ausgegeben werden."
   ]
  },
  {
   "cell_type": "code",
   "execution_count": 18,
   "metadata": {},
   "outputs": [
    {
     "name": "stdout",
     "output_type": "stream",
     "text": [
      "abc 123\n"
     ]
    }
   ],
   "source": [
    "\n",
    "class Example:\n",
    "    def __init__(self, var1, var2):\n",
    "        self.first_var = var1\n",
    "        self.second_var = var2\n",
    "        \n",
    "    def print_variables(self):\n",
    "        print(self.first_var, self.second_var)\n",
    "        \n",
    "e = Example('abc', 123)\n",
    "e.print_variables()\n",
    "    "
   ]
  },
  {
   "cell_type": "markdown",
   "metadata": {},
   "source": [
    "### `__str__()`\n",
    "`__str__()` ist eine spezielle Methode, die aufgerufen wird, wenn eine Instanz der Klasse in einen String umgewandelt wird (z.B. wenn die Instanz ausgegeben werden soll). Mit anderen Worten, indem die `__str__`-Methode für eine Klasse definiert wird, kann die Ausgabeversion für Instanzen dieser Klasse festgelegt werden. Die Methode sollte einen String zurückgeben. Die `__str__()` Methode ist somit eine informelle Repräsentation eines Objekts als String."
   ]
  },
  {
   "cell_type": "code",
   "execution_count": 19,
   "metadata": {},
   "outputs": [
    {
     "name": "stdout",
     "output_type": "stream",
     "text": [
      "This is the string presentation of jack: Person: Jack\n"
     ]
    }
   ],
   "source": [
    "class Person:\n",
    "    def __init__(self, name, age):\n",
    "        self.name = name\n",
    "        self.age = age\n",
    "        \n",
    "    def __str__(self):\n",
    "        return 'Person: {}'.format(self.name)\n",
    "    \n",
    "jack = Person('Jack', 82)\n",
    "print('This is the string presentation of jack: {}'.format(jack))"
   ]
  },
  {
   "cell_type": "markdown",
   "metadata": {},
   "source": [
    "### Klassenvariablen vs. Instanzvariablen\n",
    "Klassenvariablen werden von allen Instanzen der jeweiligen Klasse geteilt, wohingegen Instanzvariablen individuelle Werte für Instanzen der selben Klassenzugehörigkeit zulassen. Die zweite Zeile im nachfolgenden Codeblock ist daher eine Klassenvariable, da sie für alle Instanzen gleich ist. Dahingegen können Instanzvariablen unterschiedliche Werte in einer Klasse annehmen.\n",
    "Mit `assert` lässt sich überprüfen ob eine Bedingung im Code 'True' zurückgibt, wenn dies so ist, wird der Code weiter ausgeführt, wenn dies nicht der Fall ist, wird ein 'Assertion'-Error ausgegeben. In diesem Beispiel wird assert verwendet, um zu zeigen, dass Name und Beschreibung aller Instanzen gleich sind."
   ]
  },
  {
   "cell_type": "code",
   "execution_count": 20,
   "metadata": {},
   "outputs": [
    {
     "name": "stdout",
     "output_type": "stream",
     "text": [
      "instance_variable: foo, name: Modified name, description: Just an example of a simple class\n",
      "instance_variable: bar, name: Modified name, description: Just an example of a simple class\n"
     ]
    }
   ],
   "source": [
    "class Example:\n",
    "    # Das sind Klassenvariablen\n",
    "    name = 'Example class'\n",
    "    description = 'Just an example of a simple class'\n",
    "\n",
    "    def __init__(self, var1):\n",
    "        # Das ist eine Instanzvariable\n",
    "        self.instance_variable = var1\n",
    "\n",
    "    def show_info(self):\n",
    "        info = 'instance_variable: {}, name: {}, description: {}'.format(\n",
    "            self.instance_variable, Example.name, Example.description)\n",
    "        print(info)\n",
    "\n",
    "\n",
    "inst1 = Example('foo')\n",
    "inst2 = Example('bar')\n",
    "\n",
    "# Name und Beschreibung sind für alle Instanzen gleich \n",
    "assert inst1.name == inst2.name == Example.name\n",
    "assert inst1.description == inst2.description == Example.description\n",
    "\n",
    "# Wenn der Wert der Klassenvariable geändert wird, verändert er sich für alle Instanzen\n",
    "Example.name = 'Modified name'\n",
    "inst1.show_info()\n",
    "inst2.show_info()"
   ]
  },
  {
   "cell_type": "markdown",
   "metadata": {},
   "source": [
    "### Klassenmethoden\n",
    "Klassenmethoden werden dafür verwendet Informationen über eine Klasse zu erhalten oder festzulegen. Anders als bei Instanzmethoden, wird hier als erstes Argument cls übergeben (also die Klasse selbst). Eine Klassenmethode ist also an die Klasse gebunden und nicht an eine Instanz der Klasse. Nun können alle Informationen zu der Klasse ausgegeben werden. "
   ]
  },
  {
   "cell_type": "code",
   "execution_count": 21,
   "metadata": {},
   "outputs": [
    {
     "name": "stdout",
     "output_type": "stream",
     "text": [
      "Der Name ist: Obstsorten\n"
     ]
    }
   ],
   "source": [
    "class Obst:\n",
    "    name = 'Obstsorten'\n",
    "    \n",
    "    @classmethod\n",
    "    def printname(cls):\n",
    "        print('Der Name ist:', cls.name)\n",
    "\n",
    "Obst.printname()"
   ]
  },
  {
   "cell_type": "markdown",
   "metadata": {},
   "source": [
    "### Statische Methoden\n",
    "Zuletzt gibt es noch Statische Methoden. Statische Methoden werden in Python nur selten gebraucht. Ihnen muss kein besonderer Parameter übergeben werden. Sie sind unabhängig von Instanzen, deswegen könnte stattdessen auch eine Funktion verwendet werden."
   ]
  },
  {
   "cell_type": "code",
   "execution_count": 22,
   "metadata": {},
   "outputs": [
    {
     "data": {
      "text/plain": [
       "125"
      ]
     },
     "execution_count": 22,
     "metadata": {},
     "output_type": "execute_result"
    }
   ],
   "source": [
    "class rechner:\n",
    "\n",
    "    # Erstelle die statische Methode 'addieren'\n",
    "    @staticmethod\n",
    "    def addieren(x, y):\n",
    "        return x + y\n",
    "\n",
    "rechner.addieren(15, 110)"
   ]
  },
  {
   "cell_type": "markdown",
   "metadata": {},
   "source": [
    "### Public vs. privat\n",
    "In Python gibt es eine strikte Trennung zwischen öffentlichen und privaten Methoden oder Instanzvariablen. Die Konvention ist, den Namen der Methode oder Instanzvariable mit einem Unterstrich zu beginnen, wenn sie als privat behandelt werden soll, alles andere wird als *public* gesehen. Privat bedeutet, dass nicht von außerhalb der Klasse auf sie zugegriffen werden soll. Nehmen wir zum Beispiel an, dass wir eine Klasse `Person` mit `Alter` als Instanzvariable haben. Wir wollen, dass auf `Alter` nicht direkt zugegriffen (z.B. bearbeitet) werden kann, nachdem die Instanz einmal erstellt wurde. In Python könnten wir das folgendermaßen umsetzen: "
   ]
  },
  {
   "cell_type": "code",
   "execution_count": 23,
   "metadata": {},
   "outputs": [
    {
     "ename": "AttributeError",
     "evalue": "'Person' object has no attribute 'age'",
     "output_type": "error",
     "traceback": [
      "\u001b[1;31m---------------------------------------------------------------------------\u001b[0m",
      "\u001b[1;31mAttributeError\u001b[0m                            Traceback (most recent call last)",
      "Cell \u001b[1;32mIn[23], line 7\u001b[0m\n\u001b[0;32m      5\u001b[0m example_person \u001b[38;5;241m=\u001b[39m Person(age \u001b[38;5;241m=\u001b[39m \u001b[38;5;241m15\u001b[39m)\n\u001b[0;32m      6\u001b[0m \u001b[38;5;66;03m# Funktioniert nicht:\u001b[39;00m\n\u001b[1;32m----> 7\u001b[0m \u001b[38;5;28mprint\u001b[39m(\u001b[43mexample_person\u001b[49m\u001b[38;5;241;43m.\u001b[39;49m\u001b[43mage\u001b[49m)\n\u001b[0;32m      8\u001b[0m \u001b[38;5;66;03m# Funtioniert ebenfalls nicht:\u001b[39;00m\n\u001b[0;32m      9\u001b[0m example_person\u001b[38;5;241m.\u001b[39mage \u001b[38;5;241m=\u001b[39m \u001b[38;5;241m16\u001b[39m\n",
      "\u001b[1;31mAttributeError\u001b[0m: 'Person' object has no attribute 'age'"
     ]
    }
   ],
   "source": [
    "class Person:\n",
    "    def __init__(self, age):\n",
    "        self._age = age\n",
    "        \n",
    "example_person = Person(age = 15)\n",
    "# Funktioniert nicht:\n",
    "print(example_person.age)\n",
    "# Funtioniert ebenfalls nicht:\n",
    "example_person.age = 16"
   ]
  },
  {
   "cell_type": "markdown",
   "metadata": {},
   "source": [
    "Wenn `age` lesbar, aber nicht überschreibbar sein soll, kann `property` verwendet werden:"
   ]
  },
  {
   "cell_type": "code",
   "execution_count": 24,
   "metadata": {},
   "outputs": [
    {
     "name": "stdout",
     "output_type": "stream",
     "text": [
      "15\n"
     ]
    }
   ],
   "source": [
    "class Person:\n",
    "    def __init__(self, age):\n",
    "        self._age = age\n",
    "        \n",
    "    @property\n",
    "    def age(self):\n",
    "        return self._age\n",
    "        \n",
    "example_person = Person(age = 15)\n",
    "# Jetzt funktioniert:\n",
    "print(example_person.age)\n",
    "# Aber weiterhin nicht:\n",
    "# example_person.age = 16"
   ]
  },
  {
   "cell_type": "markdown",
   "metadata": {},
   "source": [
    "Durch die Verwendung von @property kann also ein kontrollierter Zugriff auf die Instanzvariablen der Klasse erfolgen."
   ]
  },
  {
   "cell_type": "code",
   "execution_count": 25,
   "metadata": {},
   "outputs": [
    {
     "name": "stdout",
     "output_type": "stream",
     "text": [
      "Alles Gute zum 16. Geburtstag!\n"
     ]
    }
   ],
   "source": [
    "class Person:\n",
    "    def __init__(self, age):\n",
    "        self._age = age\n",
    "        \n",
    "    @property\n",
    "    def age(self):\n",
    "        return self._age\n",
    "    \n",
    "    def celebrate_birthday(self):\n",
    "        self._age += 1\n",
    "        print('Alles Gute zum {}. Geburtstag!'.format(self._age))\n",
    "        \n",
    "example_person = Person(age = 15)\n",
    "example_person.celebrate_birthday()"
   ]
  },
  {
   "cell_type": "code",
   "execution_count": 26,
   "metadata": {},
   "outputs": [
    {
     "name": "stdout",
     "output_type": "stream",
     "text": [
      "16\n"
     ]
    }
   ],
   "source": [
    "print(example_person.age) # Personen alter ändert sich nur (!) durch eigene Methode in Klasse"
   ]
  },
  {
   "cell_type": "code",
   "execution_count": 27,
   "metadata": {},
   "outputs": [
    {
     "ename": "AttributeError",
     "evalue": "can't set attribute 'age'",
     "output_type": "error",
     "traceback": [
      "\u001b[1;31m---------------------------------------------------------------------------\u001b[0m",
      "\u001b[1;31mAttributeError\u001b[0m                            Traceback (most recent call last)",
      "Cell \u001b[1;32mIn[27], line 1\u001b[0m\n\u001b[1;32m----> 1\u001b[0m example_person\u001b[38;5;241m.\u001b[39mage \u001b[38;5;241m=\u001b[39m \u001b[38;5;241m17\u001b[39m\n",
      "\u001b[1;31mAttributeError\u001b[0m: can't set attribute 'age'"
     ]
    }
   ],
   "source": [
    "example_person.age = 17 # Hier keine Veränderung/Ueberschreibung möglich"
   ]
  },
  {
   "cell_type": "markdown",
   "metadata": {},
   "source": [
    "### Einführung in Vererbung \n",
    "In Python bedeutet Vererbung, dass die selben Methoden und Eigenschaften einer Elternklasse, an eine Kindklasse *vererbt* werden. Im nachfolgenden Beispiel ist 'Animal' die Elternklasse (parent class). So sieht man am Output beispielsweise, dass kein Gruß der Katze definiert wurde, und deswegen der allgemeine Gruß der Elternklasse von Python ausgegeben wird."
   ]
  },
  {
   "cell_type": "code",
   "execution_count": 28,
   "metadata": {},
   "outputs": [],
   "source": [
    "class Animal:\n",
    "    def greet(self):\n",
    "        print('Hello, I am an animal')\n",
    "\n",
    "    @property\n",
    "    def favorite_food(self):\n",
    "        return 'beef'\n",
    "\n",
    "\n",
    "class Dog(Animal):\n",
    "    def greet(self):\n",
    "        print('wof wof')\n",
    "\n",
    "\n",
    "class Cat(Animal):\n",
    "    @property\n",
    "    def favorite_food(self):\n",
    "        return 'fish'"
   ]
  },
  {
   "cell_type": "code",
   "execution_count": 29,
   "metadata": {},
   "outputs": [
    {
     "name": "stdout",
     "output_type": "stream",
     "text": [
      "wof wof\n",
      "Dog's favorite food is beef\n"
     ]
    }
   ],
   "source": [
    "dog = Dog()\n",
    "dog.greet()\n",
    "print(\"Dog's favorite food is {}\".format(dog.favorite_food)) \n",
    "\n"
   ]
  },
  {
   "cell_type": "code",
   "execution_count": 30,
   "metadata": {},
   "outputs": [
    {
     "name": "stdout",
     "output_type": "stream",
     "text": [
      "Hello, I am an animal\n",
      "Cat's favorite food is fish\n"
     ]
    }
   ],
   "source": [
    "cat = Cat()\n",
    "cat.greet()\n",
    "print(\"Cat's favorite food is {}\".format(cat.favorite_food))"
   ]
  },
  {
   "cell_type": "markdown",
   "metadata": {},
   "source": [
    "## for-Schleifen\n",
    "Mit for-Schleifen lässt sich über Sequenzen iterieren.\n",
    "So passiert für jedes Element, das in der ersten Zeile der for-Schleife angegeben wird, das Ereignis was in der Schleife definiert wird. Im nächsten Beispiel wird somit für jedes Element das Element als Output ausgegeben (print). In anderen Worten: Itereriere über jedes item in meiner Liste und führe dabei für jedes item die in der Schleife festgelegten Aufgaben aus."
   ]
  },
  {
   "cell_type": "markdown",
   "metadata": {},
   "source": [
    "### Schleifen über Listen"
   ]
  },
  {
   "cell_type": "code",
   "execution_count": 31,
   "metadata": {},
   "outputs": [
    {
     "name": "stdout",
     "output_type": "stream",
     "text": [
      "1\n",
      "2\n",
      "3\n",
      "4\n",
      "Python\n",
      "ist\n",
      "super\n",
      "9\n"
     ]
    }
   ],
   "source": [
    "my_list = [1, 2, 3, 4, 'Python', 'ist', 'super', 9]\n",
    "for item in my_list:\n",
    "    print(item)"
   ]
  },
  {
   "cell_type": "markdown",
   "metadata": {},
   "source": [
    "#### `break`\n",
    "Ausführung der Schleife anhalten. "
   ]
  },
  {
   "cell_type": "code",
   "execution_count": 32,
   "metadata": {},
   "outputs": [
    {
     "name": "stdout",
     "output_type": "stream",
     "text": [
      "1\n",
      "2\n",
      "3\n",
      "4\n"
     ]
    }
   ],
   "source": [
    "for item in my_list:\n",
    "    if item == 'Python':\n",
    "        break\n",
    "    print(item)"
   ]
  },
  {
   "cell_type": "markdown",
   "metadata": {},
   "source": [
    "#### `continue`\n",
    "Weiter zum nächsten Element, ohne die Zeilen nach `continue` innerhalb der Schleife auszuführen."
   ]
  },
  {
   "cell_type": "code",
   "execution_count": 33,
   "metadata": {},
   "outputs": [
    {
     "name": "stdout",
     "output_type": "stream",
     "text": [
      "2\n",
      "3\n",
      "4\n",
      "Python\n",
      "ist\n",
      "super\n",
      "9\n"
     ]
    }
   ],
   "source": [
    "for item in my_list:\n",
    "    if item == 1:\n",
    "        continue\n",
    "    print(item)"
   ]
  },
  {
   "cell_type": "markdown",
   "metadata": {},
   "source": [
    "#### `enumerate()`\n",
    "Für den Fall, dass der Index ersichtlich werden soll, kann `enumerate()` verwendet werden.\n",
    "\n",
    "Mit `enumerate()` kann man über Objekte und deren Index iterieren und das genau dann jeweils nutzen wenn man es braucht. `enumerate()` kann man in einer Schleife fast genauso verwenden wie das ursprüngliche iterierbare Objekt, statt das Objekt direkt nach *in* in die for-Schleife zu schreiben, kommt es in die Klammern.\n",
    "\n",
    "Die Funktion gibt einem zwei Werte zurück: die Zahl der Iteration und den Wert zu dieser Iteration. \n",
    "\n",
    "Durch enumerate ist es nicht mehr nötig selbst die Zahl der Iteration hinzuzufügen. Dies ermöglicht es die Schleifen nachzuvollziehen, und man muss nicht mehr am Ende der Schleife den Index erhöhen.\n",
    "\n",
    "Es ist möglich enumerate() als Argument den Startpunkt der Iteration zu übergeben, dieser ist Standardmäßig als 0 festgelegt.\n",
    "\n",
    "\n",
    "Achtung: Bei Python startet der Index beim ersten Element mit 0."
   ]
  },
  {
   "cell_type": "code",
   "execution_count": 34,
   "metadata": {
    "scrolled": true
   },
   "outputs": [
    {
     "name": "stdout",
     "output_type": "stream",
     "text": [
      "idx: 0, value: 1\n",
      "idx: 1, value: 2\n",
      "idx: 2, value: 3\n",
      "idx: 3, value: 4\n",
      "idx: 4, value: Python\n",
      "idx: 5, value: ist\n",
      "idx: 6, value: super\n",
      "idx: 7, value: 9\n"
     ]
    }
   ],
   "source": [
    "for idx, val in enumerate(my_list):\n",
    "    print('idx: {}, value: {}'.format(idx, val))"
   ]
  },
  {
   "cell_type": "code",
   "execution_count": 35,
   "metadata": {},
   "outputs": [
    {
     "name": "stdout",
     "output_type": "stream",
     "text": [
      "0 1\n",
      "1 2\n",
      "2 3\n",
      "3 4\n",
      "4 Python\n",
      "5 ist\n",
      "6 super\n",
      "7 9\n"
     ]
    }
   ],
   "source": [
    "for idx, val in enumerate(my_list):\n",
    "    print(idx, val)"
   ]
  },
  {
   "cell_type": "markdown",
   "metadata": {},
   "source": [
    "### Schleifen über dictionaries"
   ]
  },
  {
   "cell_type": "code",
   "execution_count": 36,
   "metadata": {},
   "outputs": [
    {
     "name": "stdout",
     "output_type": "stream",
     "text": [
      "hacker\n",
      "age\n",
      "name\n"
     ]
    }
   ],
   "source": [
    "my_dict = {'hacker': True, 'age': 59, 'name': 'Kevin Mitnick'}\n",
    "for val in my_dict:\n",
    "    print(val)"
   ]
  },
  {
   "cell_type": "code",
   "execution_count": 37,
   "metadata": {},
   "outputs": [
    {
     "name": "stdout",
     "output_type": "stream",
     "text": [
      "hacker = True\n",
      "age = 59\n",
      "name = Kevin Mitnick\n"
     ]
    }
   ],
   "source": [
    "for key, val in my_dict.items():\n",
    "    print('{} = {}'.format(key, val))"
   ]
  },
  {
   "cell_type": "markdown",
   "metadata": {},
   "source": [
    "### `range()`"
   ]
  },
  {
   "cell_type": "code",
   "execution_count": 38,
   "metadata": {},
   "outputs": [
    {
     "name": "stdout",
     "output_type": "stream",
     "text": [
      "0\n",
      "1\n",
      "2\n",
      "3\n",
      "4\n"
     ]
    }
   ],
   "source": [
    "for number in range(5):\n",
    "    print(number)"
   ]
  },
  {
   "cell_type": "code",
   "execution_count": 39,
   "metadata": {},
   "outputs": [
    {
     "name": "stdout",
     "output_type": "stream",
     "text": [
      "2\n",
      "3\n",
      "4\n"
     ]
    }
   ],
   "source": [
    "for number in range(2, 5):\n",
    "    print(number)"
   ]
  },
  {
   "cell_type": "code",
   "execution_count": 40,
   "metadata": {},
   "outputs": [
    {
     "name": "stdout",
     "output_type": "stream",
     "text": [
      "0\n",
      "3\n",
      "6\n",
      "9\n",
      "12\n",
      "15\n",
      "18\n",
      "21\n",
      "24\n",
      "27\n"
     ]
    }
   ],
   "source": [
    "for number in range(0, 30, 3):  # das letzte Argument definiert die Schrittlänge\n",
    "    print(number)"
   ]
  },
  {
   "cell_type": "markdown",
   "metadata": {},
   "source": [
    "## Bedingungen"
   ]
  },
  {
   "cell_type": "markdown",
   "metadata": {},
   "source": [
    "### `if`"
   ]
  },
  {
   "cell_type": "code",
   "execution_count": 41,
   "metadata": {},
   "outputs": [
    {
     "name": "stdout",
     "output_type": "stream",
     "text": [
      "statement is True\n"
     ]
    }
   ],
   "source": [
    "statement = True\n",
    "if statement:\n",
    "    print('statement is True')\n",
    "    \n",
    "if not statement:\n",
    "    print('statement is not True')"
   ]
  },
  {
   "cell_type": "code",
   "execution_count": 42,
   "metadata": {},
   "outputs": [],
   "source": [
    "empty_list = []\n",
    "# Bei if und elif ist die Umwandlung in Boolean implizit\n",
    "if empty_list:\n",
    "    print('empty list will not evaluate to True')  # wird nicht ausgeführt"
   ]
  },
  {
   "cell_type": "code",
   "execution_count": 43,
   "metadata": {},
   "outputs": [
    {
     "name": "stdout",
     "output_type": "stream",
     "text": [
      "Value is positive and less than one or value is five\n"
     ]
    }
   ],
   "source": [
    "val = 5\n",
    "if 0 <= val < 1 or val == 5:\n",
    "    print('Value is positive and less than one or value is five')"
   ]
  },
  {
   "cell_type": "markdown",
   "metadata": {},
   "source": [
    "### `if-else`"
   ]
  },
  {
   "cell_type": "code",
   "execution_count": 44,
   "metadata": {},
   "outputs": [
    {
     "name": "stdout",
     "output_type": "stream",
     "text": [
      "my dict is empty :(\n"
     ]
    }
   ],
   "source": [
    "my_dict = {}\n",
    "if my_dict:\n",
    "    print('there is something in my dict')\n",
    "else:\n",
    "    print('my dict is empty :(')"
   ]
  },
  {
   "cell_type": "markdown",
   "metadata": {},
   "source": [
    "### `if-elif-else`"
   ]
  },
  {
   "cell_type": "code",
   "execution_count": 45,
   "metadata": {},
   "outputs": [
    {
     "name": "stdout",
     "output_type": "stream",
     "text": [
      "value is greater than 10 but less than 100\n"
     ]
    }
   ],
   "source": [
    "val = 26\n",
    "if val >= 100:\n",
    "    print('value is equal or greater than 100')\n",
    "elif val > 10:\n",
    "    print('value is greater than 10 but less than 100')\n",
    "else:\n",
    "    print('value is equal or less than 10')"
   ]
  },
  {
   "cell_type": "markdown",
   "metadata": {},
   "source": [
    "Es können so viele `elif`-Aussagen wie benötigt anneinander gereiht werden. `else` zum Abschluss ist nicht unbedingt notwendig. \n",
    "\n",
    "Good Practice Tipp:\n",
    "`else` und `elif` kann fast immer vermieden werden, genau wie es in R meist unnötig ist. Das nachfolgende Beispiel zeigt dies, und zeigt, dass wenn alle if und elif Bedingungen nicht zutreffen, in diesem Beispiel der zuvor definierte Wert zurückgegeben wird."
   ]
  },
  {
   "cell_type": "code",
   "execution_count": 46,
   "metadata": {},
   "outputs": [
    {
     "name": "stdout",
     "output_type": "stream",
     "text": [
      "Hallo friedliche Python-Leute!\n"
     ]
    }
   ],
   "source": [
    "greeting = 'Hallo friedliche Python-Leute!'\n",
    "language = 'Italian'\n",
    "\n",
    "if language == 'Finnish':\n",
    "    greeting = 'Latua perkele!'\n",
    "elif language == 'Spanish':\n",
    "    greeting = 'Hola!'\n",
    "elif language == 'German':\n",
    "    greeting = 'Guten Tag!'\n",
    "    \n",
    "print(greeting)"
   ]
  },
  {
   "cell_type": "markdown",
   "metadata": {},
   "source": [
    "Einen detaillierteren Überblick über Bedingungen bietet dieses [Tutorial von Real Python](https://realpython.com/python-conditional-statements/)."
   ]
  },
  {
   "cell_type": "markdown",
   "metadata": {},
   "source": [
    "## Debugging mit [`pdb`](https://docs.python.org/3/library/pdb.html#module-pdb)\n",
    "Programme verhalten sich nicht immer so, wie man es erwarten würde. Wenn der Ursprung des Fehlers unklar ist, ist Debugging in der Regel die effektivste Methode, um die Ursache für das unerwartete Verhalten zu finden. Die Python-Standardbibliothek verfügt über einen eingebauten Debugger, der ein leistungsstarkes Werkzeug für die Lösung aller Probleme im Zusammenhang mit Code ist."
   ]
  },
  {
   "cell_type": "markdown",
   "metadata": {},
   "source": [
    "### `import pdb; pdb.set_trace()`\n",
    "Der klassische Debugging-Anwendungsfall ist, dass die Ausführung des Programms an einer bestimmten Stelle angehalten, und Variablenwerte oder die Programmausführung ab diesem Punkt überwacht werden sollen. Die Ausführung kann an der gewünschten Stelle angehalten werden, indem mittels `import pdb; pdb.set_trace()` (ab Pythonversion 3.7 existert hierfür der Shortcut `breakpoint()`) ein Haltepunkt im Code festgelegt wird. \n",
    "\n",
    "Das Programms wird dann beim Ausführen an diesem Punkt angehalten und eine interaktive Debugger-Sitzung gestartet. Es können beliebig viele Haltepunkte festgelegt werden. "
   ]
  },
  {
   "cell_type": "markdown",
   "metadata": {},
   "source": [
    "## Hilfreiche Befehle\n",
    "Die komplette Liste kann [hier](https://docs.python.org/3/library/pdb.html#debugger-commands) abgerufen werden.\n",
    "\n",
    "* `h` oder `help`: Gibt eine Liste aller verfügbaren Befehle aus. Wenn ein Argument mit angegeben wird, z.B. `help continue`, dann wird die Hilfeseite des `continue`-Befehls ausgegeben. \n",
    "* `l` oder `list`: Listet einen Code-Abschnitt um die aktuelle Position herum auf. \n",
    "* `n` oder `next`: Führt die nächste Zeile aus. \n",
    "* `s` oder `step`: Wie `next`, springt jedoch in die Funktion, die in der nächsten Zeile aufgerufen wird.\n",
    "* `c` oder `continue`: Fortsetzen der Ausführung bis zum nächsten Haltepunkt. \n",
    "* `r` oder `return`: Fortsetzen der Ausführung bis zum Ausgabewert der aktuellen Funktion. \n",
    "* `q` oder `quit`: Beendet den Debugger und bricht die Programmausführung ab.\n",
    "\n",
    "Während der Debugging-Sitzung kann man den Wert einer beliebigen Variablen einsehen, indem man den Variablennamen eingibt. Beliebiger Code kann währenddessen ebenfalls ausgeführt werden. "
   ]
  },
  {
   "cell_type": "markdown",
   "metadata": {},
   "source": [
    "### Anwendungsbeispiel\n",
    "Kommentiere die `import pdb; pdb.set_trace()`-Zeilen aus und führe die Zelle aus. Führe das Programm Zeile für Zeile mithilfe der oben genannten Befehle aus. Probiere alle Befehle mindestens einmal aus. Achte dabei auf den Unterschied zwischen `n` und `s`."
   ]
  },
  {
   "cell_type": "code",
   "execution_count": 47,
   "metadata": {},
   "outputs": [
    {
     "name": "stdout",
     "output_type": "stream",
     "text": [
      "Bonjour John Doe!\n",
      "G'day Donald! How are you doing?\n",
      "G'day Lisa! How are you doing?\n",
      "WASSUP TOBI!?\n"
     ]
    }
   ],
   "source": [
    "class SuperGreeter:\n",
    "    def __init__(self, people_to_greet):\n",
    "        self.people = people_to_greet\n",
    "\n",
    "    def greet(self):\n",
    "        for person in self.people:\n",
    "            if person.islower():\n",
    "                self.__greet_street_style(person)\n",
    "            elif len(person) > 7:\n",
    "                self.__greet_french(person)\n",
    "            else:\n",
    "                self.__greet_polite(person)\n",
    "            \n",
    "    def __greet_polite(self, name):\n",
    "        greeting = \"G'day {}! How are you doing?\".format(name)\n",
    "        print(greeting)\n",
    "\n",
    "    def __greet_street_style(self, name):\n",
    "        # import pdb; pdb.set_trace()  # AUSKOMMENTIEREN\n",
    "        name = name.upper()\n",
    "        print('WASSUP {}!?'.format(name))\n",
    "\n",
    "    def __greet_french(self, name):\n",
    "        print('Bonjour {}!'.format(name))\n",
    "\n",
    "\n",
    "def main():\n",
    "    people = ['John Doe', 'Donald', 'Lisa', 'tobi']\n",
    "    # import pdb; pdb.set_trace()  # AUSKOMMENTIEREN\n",
    "    greeter = SuperGreeter(people)\n",
    "    greeter.greet()\n",
    "\n",
    "\n",
    "main()\n",
    "\n",
    "\n"
   ]
  },
  {
   "cell_type": "markdown",
   "metadata": {},
   "source": [
    "### Einführung zu Regular Expressions in Python\n",
    "\n",
    "\n",
    "\n",
    "Regular Expressions (auch bekannt als Regex) sind ein mächtiges Werkzeug zur Verarbeitung und Manipulation von Text in Python. Sie ermöglichen die Suche nach bestimmten Mustern in Zeichenketten und das Extrahieren von Daten basierend auf diesen Mustern. Python bietet eine eingebaute Bibliothek namens \"re\", die Funktionen und Methoden zur Verwendung regulärer Ausdrücke bereitstellt.\n",
    "\n",
    "\n",
    "\n",
    "#### Grundlegende Konzepte\n",
    "\n",
    "\n",
    "\n",
    "Bevor wir uns mit der Verwendung von Regular Expressions in Python befassen, sollten einige grundlegende Konzepte verstanden werden:\n",
    "\n",
    "\n",
    "\n",
    "1. **Zeichenklassen**: Zeichenklassen definieren eine Gruppe von Zeichen, die in einem regulären Ausdruck zusammengefasst sind. Zum Beispiel steht der reguläre Ausdruck `[abc]` für jedes Vorkommen der Zeichen 'a', 'b' oder 'c'.\n",
    "\n",
    "\n",
    "\n",
    "2. **Quantifier**: Quantifier geben an, wie oft ein vorhergehendes Zeichen oder eine vorhergehende Gruppe in einem regulären Ausdruck auftreten kann. Einige gängige Quantifier sind '*', '+', '?' und '{n,m}'. Zum Beispiel bedeutet der reguläre Ausdruck `a+` eine oder mehrere Wiederholungen des Zeichens 'a'.\n",
    "\n",
    "\n",
    "\n",
    "3. **Anchors**: Anker definieren bestimmte Positionen in einem Text, an denen ein Muster gefunden werden soll. Zum Beispiel steht der Anker '^' am Anfang eines regulären Ausdrucks für den Beginn einer Zeile, während der Anker '$' das Ende einer Zeile darstellt.\n",
    "\n",
    "\n",
    "\n",
    "#### Verwendung von Regular Expressions in Python\n",
    "\n",
    "\n",
    "\n",
    "Um Regular Expressions in Python zu verwenden, muss zuerst das Modul \"re\" importiert werden. Hier ist ein einfaches Beispiel, das die Verwendung von Regular Expressions zeigt:\n",
    "\n"
   ]
  },
  {
   "cell_type": "code",
   "execution_count": 48,
   "metadata": {
    "ExecuteTime": {
     "end_time": "2023-06-13T20:43:59.181178300Z",
     "start_time": "2023-06-13T20:43:59.118693700Z"
    }
   },
   "outputs": [
    {
     "name": "stdout",
     "output_type": "stream",
     "text": [
      "Muster gefunden!\n"
     ]
    }
   ],
   "source": [
    "import re\n",
    "\n",
    "# Eine Zeichenkette definieren\n",
    "text = \"Hallo, dies ist ein Beispieltext.\"\n",
    "\n",
    "# Eine regular expression definieren\n",
    "pattern = r\"Beispiel\" # angeben nach welchem Muster (hier Wort) gesucht werden soll, \n",
    "                      # r steht für raw-String -> String soll wortwörtlich genommen werden und enthält keine escape-sequenzen\n",
    "\n",
    "# Die Suche nach dem Muster durchführen\n",
    "match = re.search(pattern, text) # sucht nur nach dem ersten Vorkommen des Musters im Text\n",
    "\n",
    "if match:\n",
    "    print(\"Muster gefunden!\")\n",
    "else:\n",
    "    print(\"Muster nicht gefunden.\")"
   ]
  },
  {
   "cell_type": "markdown",
   "metadata": {},
   "source": [
    "\n",
    "In diesem Beispiel wird das \"re\"-Modul importiert und eine Zeichenkette namens \"text\" definiert. Dann wird der reguläre Ausdruck \"pattern\" als \"Beispiel\" definiert. Die Funktion `re.search()` wird verwendet, um nach dem Muster in der Zeichenkette zu suchen. Wenn das Muster gefunden wird, wird die Ausgabe \"Muster gefunden!\" angezeigt.\n",
    "\n",
    "\n",
    "Das nächste Beispiel zeigt wie mit Regular Expressions Zahlen aus einer Zeichenkette extrahiert werden können\n"
   ]
  },
  {
   "cell_type": "code",
   "execution_count": 49,
   "metadata": {
    "ExecuteTime": {
     "end_time": "2023-06-13T20:45:58.265614900Z",
     "start_time": "2023-06-13T20:45:58.085657200Z"
    }
   },
   "outputs": [
    {
     "name": "stdout",
     "output_type": "stream",
     "text": [
      "Extrahierte Zahlen: ['321']\n"
     ]
    }
   ],
   "source": [
    "def extract_numbers(text):\n",
    "    pattern = r'\\d+' # \\d steht für digit (Ziffer) und gibt an, dass nach Zahlen gesucht werden soll\n",
    "                     # das + gibt an, dass die vorhergehende Zeichenklasse (hier Ziffern) ein oder mehrmals vorkommen kann\n",
    "    numbers = re.findall(pattern, text) # alle Vorkommen des Musters sollen gefunden werden und im Objekt numbers gespeichert werden\n",
    "    return numbers\n",
    "\n",
    "input_text = 'abc321def'\n",
    "numbers = extract_numbers(input_text)\n",
    "print('Extrahierte Zahlen:', numbers)"
   ]
  },
  {
   "cell_type": "markdown",
   "metadata": {},
   "source": [
    "In dem nächsten Beispiel wird eine Funktion definiert, mit der geprüft werden kann ob mindestens eines von zwei Worten in einem String enthalten ist. Ist eines der beiden Worte enthalten, wird dieses durch ein drittes Wort ersetzt."
   ]
  },
  {
   "cell_type": "code",
   "execution_count": 50,
   "metadata": {
    "ExecuteTime": {
     "end_time": "2023-06-13T20:47:17.511924700Z",
     "start_time": "2023-06-13T20:47:17.386961900Z"
    }
   },
   "outputs": [
    {
     "name": "stdout",
     "output_type": "stream",
     "text": [
      "Ersetzte Zeichenkette: Hallo, ich bin Handwerker\n",
      "Ersetzte Zeichenkette: Er ist Handwerker und sein Bruder ist Handwerker\n",
      "Ersetzte Zeichenkette: Sie arbeiten als Architekten\n",
      "Ersetzte Zeichenkette: Er ist Handwerker und seine Tante ist auch Tischlerin\n"
     ]
    }
   ],
   "source": [
    "\n",
    "def replace_word(text, word1, word2, replacement):\n",
    "    pattern = r'\\b(' + re.escape(word1) + r'|' + re.escape(word2) + r')\\b' # \\b ist ein Anchor für Wortgrenzen und sorgt dafür, dass das Wort \n",
    "                                                                           # nicht Teil eines längeren Wortes ist -> keine partiellen Übereinstimmungen des Wortes,\n",
    "                                                                           # durch re.escape() wird vermieden, dass Sonderzeichen die RegEx beeinflussen\n",
    "                                                                           # und durch | wird festgelegt dass entweder das eine ODER das\n",
    "                                                                           # andere Wort übereinstimmen muss\n",
    "    replaced_text = re.sub(pattern, replacement, text) # mit re.sub werden alle Vorkommen des Musters durch das angegebene\n",
    "                                                       # replacement ersetzt\n",
    "    return replaced_text\n",
    "\n",
    "input_text = 'Hallo, ich bin Maurer'\n",
    "input_word1 = 'Maurer'\n",
    "input_word2 = 'Tischler'\n",
    "input_replacement = 'Handwerker'\n",
    "\n",
    "replaced_text = replace_word(input_text, input_word1, input_word2, input_replacement)\n",
    "print('Ersetzte Zeichenkette:', replaced_text)\n",
    "\n",
    "input_text2 = 'Er ist Tischler und sein Bruder ist Maurer'\n",
    "replaced_text2 = replace_word(input_text2, input_word1, input_word2, input_replacement)\n",
    "print('Ersetzte Zeichenkette:', replaced_text2)\n",
    "\n",
    "input_text3 = 'Sie arbeiten als Architekten'\n",
    "replaced_text3 = replace_word(input_text3, input_word1, input_word2, input_replacement)\n",
    "print('Ersetzte Zeichenkette:', replaced_text3)\n",
    "\n",
    "input_text4 = 'Er ist Tischler und seine Tante ist auch Tischlerin'\n",
    "replaced_text4 = replace_word(input_text4, input_word1, input_word2, input_replacement)\n",
    "print('Ersetzte Zeichenkette:', replaced_text4)"
   ]
  },
  {
   "cell_type": "markdown",
   "metadata": {},
   "source": [
    "Dies waren nur einfache Beispiele, um den Einstieg in regular Expressions in Python zu erleichtern. Es gibt viele weitere Funktionen und Methoden in der \"re\"-Bibliothek, mit denen man komplexe Muster definieren und Text manipulieren kann."
   ]
  }
 ],
 "metadata": {
  "kernelspec": {
   "display_name": "Python 3",
   "language": "python",
   "name": "python3"
  },
  "language_info": {
   "codemirror_mode": {
    "name": "ipython",
    "version": 3
   },
   "file_extension": ".py",
   "mimetype": "text/x-python",
   "name": "python",
   "nbconvert_exporter": "python",
   "pygments_lexer": "ipython3",
   "version": "3.7.6"
  }
 },
 "nbformat": 4,
 "nbformat_minor": 5
}
