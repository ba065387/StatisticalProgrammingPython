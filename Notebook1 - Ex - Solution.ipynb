{
 "cells": [
  {
   "cell_type": "markdown",
   "metadata": {},
   "source": [
    "# <a id='toc1_'></a>[Notebook1: Python Basics Exercises](#toc0_)"
   ]
  },
  {
   "cell_type": "markdown",
   "metadata": {},
   "source": [
    "**Table of contents**<a id='toc0_'></a>    \n",
    "- [Notebook1: Python Basics Exercises](#toc1_)    \n",
    "  - [Aufgabe 1](#toc1_1_)    \n",
    "  - [Aufgabe 2](#toc1_2_)    \n",
    "  - [Aufgabe 3](#toc1_3_)    \n",
    "  - [Aufgabe 4](#toc1_4_)    \n",
    "- [Lösungen der In-Notebook Aufgaben:](#toc2_)    \n",
    "  - [Ex 1](#toc2_1_)    \n",
    "  - [Ex 2](#toc2_2_)    \n",
    "  - [Ex 3](#toc2_3_)    \n",
    "\n",
    "<!-- vscode-jupyter-toc-config\n",
    "\tnumbering=false\n",
    "\tanchor=true\n",
    "\tflat=false\n",
    "\tminLevel=1\n",
    "\tmaxLevel=6\n",
    "\t/vscode-jupyter-toc-config -->\n",
    "<!-- THIS CELL WILL BE REPLACED ON TOC UPDATE. DO NOT WRITE YOUR TEXT IN THIS CELL -->"
   ]
  },
  {
   "cell_type": "markdown",
   "metadata": {},
   "source": [
    "## <a id='toc1_1_'></a>[Aufgabe 1](#toc0_)"
   ]
  },
  {
   "cell_type": "markdown",
   "metadata": {},
   "source": [
    "Du hast einen Datensatz von Schülern und ihren Noten erhalten. Jeder \n",
    "Datensatz im Datensatz ist eine Zeichenkette im folgenden Format: \n",
    "\"Name,Note1,Note2,Note3\". Schreibe eine Python-Funktion, die diesen \n",
    "Datensatz als Zeichenkette entgegennimmt und den Durchschnitt für jede \n",
    "Schülerin bzw. jeden Schüler sowie den Klassendurchschnitt für jedes \n",
    "Fach berechnet. Gib die Ergebnisse als Dictionary zurück.\n",
    "\n",
    "Beispiel: Angenommen, der folgende Datensatz wird übergeben: \n"
   ]
  },
  {
   "cell_type": "code",
   "execution_count": 3,
   "metadata": {},
   "outputs": [],
   "source": [
    "# Input:\n",
    "data = \"Max,80,90,85\\nAnna,75,85,80\\nTom,90,95,92\\n    \""
   ]
  },
  {
   "cell_type": "markdown",
   "metadata": {},
   "source": [
    "Die Funktion sollte folgenden Output haben:"
   ]
  },
  {
   "cell_type": "markdown",
   "metadata": {},
   "source": [
    "`{` \\\n",
    "   ``\"Max\": {\"average\": 85.0, \"grades\": [80, 90, 85]},`` \\\n",
    "   ``\"Anna\": {\"average\": 80.0, \"grades\": [75, 85, 80]},`` \\\n",
    "   ``\"Tom\": {\"average\": 92.33333333333333, \"grades\": [90, 95, 92]},`` \\\n",
    "   ``\"class_average\": {\"Note1\": 81.66666666666667, \"Note2\": 90.0,`` \n",
    "   ``\"Note3\": 85.66666666666667}`` \\\n",
    "`}`"
   ]
  },
  {
   "cell_type": "code",
   "execution_count": 4,
   "metadata": {},
   "outputs": [],
   "source": [
    "# Lösung:\n",
    "\n",
    "def calculate_grades(dataset):\n",
    "    student_data = {}\n",
    "    class_data = {\"Note1\": [], \"Note2\": [], \"Note3\": []}\n",
    "    records = dataset.strip().split(\"\\n\")\n",
    "    for record in records:\n",
    "        name, note1, note2, note3 = record.split(\",\")\n",
    "        grades = [int(note1), int(note2), int(note3)]\n",
    "        average_grade = sum(grades) / len(grades)\n",
    "        student_data[name] = {\"grades\": grades,\n",
    "            \"average\": average_grade}\n",
    "        class_data[\"Note1\"].append(grades[0])\n",
    "        class_data[\"Note2\"].append(grades[1])\n",
    "        class_data[\"Note3\"].append(grades[2])\n",
    "    class_average = {fach: sum(grades) / len(grades) for fach,\n",
    "        grades in class_data.items()}\n",
    "    student_data[\"class_average\"] = class_average\n",
    "    return student_data\n"
   ]
  },
  {
   "cell_type": "code",
   "execution_count": 5,
   "metadata": {},
   "outputs": [
    {
     "data": {
      "text/plain": [
       "{'Max': {'grades': [80, 90, 85], 'average': 85.0},\n",
       " 'Anna': {'grades': [75, 85, 80], 'average': 80.0},\n",
       " 'Tom': {'grades': [90, 95, 92], 'average': 92.33333333333333},\n",
       " 'class_average': {'Note1': 81.66666666666667,\n",
       "  'Note2': 90.0,\n",
       "  'Note3': 85.66666666666667}}"
      ]
     },
     "execution_count": 5,
     "metadata": {},
     "output_type": "execute_result"
    }
   ],
   "source": [
    "calculate_grades(data)"
   ]
  },
  {
   "cell_type": "markdown",
   "metadata": {},
   "source": [
    "## <a id='toc1_2_'></a>[Aufgabe 2](#toc0_)"
   ]
  },
  {
   "cell_type": "markdown",
   "metadata": {},
   "source": [
    "Schreibe eine Python-Funktion namens set_operations, die zwei Mengen \n",
    "von ganzen Zahlen set1 und set2 als Argumente entgegennimmt und \n",
    "folgende Operationen durchführt:\n",
    "\n",
    "Gibt die Vereinigungsmenge von set1 und set2 aus.\n",
    "Gibt die Schnittmenge von set1 und set2 aus.\n",
    "Gibt die Differenz von set1 und set2 aus.\n",
    "Gibt aus, ob set1 eine Teilmenge von set2 ist.\n",
    "Deine Funktion sollte dann einen booleschen Wert zurückgeben, \n",
    "der angibt, ob die Länge von set1 größer ist als die Länge von set2."
   ]
  },
  {
   "cell_type": "code",
   "execution_count": 6,
   "metadata": {},
   "outputs": [],
   "source": [
    "# Input:\n",
    "set1 = {1, 2, 3, 4, 5}\n",
    "set2 = {3, 4, 5, 6, 7}"
   ]
  },
  {
   "cell_type": "markdown",
   "metadata": {},
   "source": [
    "Die Funktion sollte folgenden Output haben:"
   ]
  },
  {
   "cell_type": "markdown",
   "metadata": {},
   "source": [
    "``Vereinigungsmenge: {1, 2, 3, 4, 5, 6, 7}`` \\\n",
    "``Schnittmenge: {3, 4, 5}`` \\\n",
    "``Differenz (set1 - set2): {1, 2}`` \\\n",
    "``set1 ist keine Teilmenge von set2`` \\\n",
    "``True``"
   ]
  },
  {
   "cell_type": "code",
   "execution_count": 7,
   "metadata": {},
   "outputs": [],
   "source": [
    "# Lösung:\n",
    "\n",
    "def set_operations(set1, set2):\n",
    "    # Berechne und gib die Vereinigungsmenge von set1 und set2 aus\n",
    "    union = set1.union(set2)\n",
    "    print(f\"Vereinigungsmenge: {union}\")\n",
    "    \n",
    "    # Berechne und gib die Schnittmenge von set1 und set2 aus\n",
    "    intersection = set1.intersection(set2)\n",
    "    print(f\"Schnittmenge: {intersection}\")\n",
    "    \n",
    "    # Berechne und gib die Differenz zwischen set1 und set2 aus\n",
    "    difference = set1.difference(set2)\n",
    "    print(f\"Differenz (set1 - set2): {difference}\")\n",
    "    \n",
    "    # Überprüfe, ob set1 eine Teilmenge von set2 ist und gib das \n",
    "    # Ergebnis aus\n",
    "    if set1.issubset(set2):\n",
    "        print(\"set1 ist eine Teilmenge von set2\")\n",
    "    else:\n",
    "        print(\"set1 ist keine Teilmenge von set2\")\n",
    "    \n",
    "    # Gib True zurück, wenn die Länge von set1 größer als die \n",
    "    # Länge von set2 ist, andernfalls gib False zurück\n",
    "    return len(set1) > len(set2)"
   ]
  },
  {
   "cell_type": "code",
   "execution_count": 8,
   "metadata": {},
   "outputs": [
    {
     "name": "stdout",
     "output_type": "stream",
     "text": [
      "Vereinigungsmenge: {1, 2, 3, 4, 5, 6, 7}\n",
      "Schnittmenge: {3, 4, 5}\n",
      "Differenz (set1 - set2): {1, 2}\n",
      "set1 ist keine Teilmenge von set2\n"
     ]
    },
    {
     "data": {
      "text/plain": [
       "False"
      ]
     },
     "execution_count": 8,
     "metadata": {},
     "output_type": "execute_result"
    }
   ],
   "source": [
    "set_operations(set1 = set1, set2 = set2)"
   ]
  },
  {
   "cell_type": "markdown",
   "metadata": {},
   "source": [
    "## <a id='toc1_3_'></a>[Aufgabe 3](#toc0_)"
   ]
  },
  {
   "cell_type": "markdown",
   "metadata": {},
   "source": [
    "Schreibe eine Python-Funktion namens \n",
    "sum_squares(x_coords, y_coords, params), die die Summe der Quadrate \n",
    "der Abstände zwischen einer gegebenen Menge von Punkten und einer \n",
    "linearen Funktion berechnet, die durch die gegebenen Parameter params \n",
    "definiert wird."
   ]
  },
  {
   "cell_type": "code",
   "execution_count": 9,
   "metadata": {},
   "outputs": [],
   "source": [
    "# Input:\n",
    "x_coords = [1, 2, 3, 4, 5]\n",
    "y_coords = [2, 3, 10, 5, 6]\n",
    "params = {\"Achsenabschnitt\":2, \"Steigung\":3}"
   ]
  },
  {
   "cell_type": "markdown",
   "metadata": {},
   "source": [
    "Die Funktion sollte folgenden Output haben:"
   ]
  },
  {
   "cell_type": "markdown",
   "metadata": {},
   "source": [
    "``237``"
   ]
  },
  {
   "cell_type": "code",
   "execution_count": 10,
   "metadata": {},
   "outputs": [],
   "source": [
    "#Lösung\n",
    "\n",
    "def sum_squares(x_coords, y_coords, params):\n",
    "    # Extrahiere die Parameter der linearen Funktion\n",
    "    t = params[\"Achsenabschnitt\"]\n",
    "    m = params[\"Steigung\"]\n",
    "    \n",
    "    # Berechne die vorhergesagten y-Koordinaten für jede x-Koordinate\n",
    "    y_preds = [m*x + t for x in x_coords]\n",
    "    \n",
    "    # Berechne die Summe der Quadrate der Abstände zwischen \n",
    "    # den y-Koordinaten und den vorhergesagten y-Koordinaten\n",
    "    sum_squares = sum(\n",
    "        [(y - y_pred)**2 for y, y_pred in zip(y_coords, y_preds)])\n",
    "    \n",
    "    return sum_squares"
   ]
  },
  {
   "cell_type": "code",
   "execution_count": 11,
   "metadata": {},
   "outputs": [
    {
     "data": {
      "text/plain": [
       "237"
      ]
     },
     "execution_count": 11,
     "metadata": {},
     "output_type": "execute_result"
    }
   ],
   "source": [
    "sum_squares(x_coords, y_coords, params)"
   ]
  },
  {
   "cell_type": "markdown",
   "metadata": {},
   "source": [
    "## <a id='toc1_4_'></a>[Aufgabe 4](#toc0_)"
   ]
  },
  {
   "cell_type": "markdown",
   "metadata": {},
   "source": [
    "Gegeben sei eine Liste von Münzwürfen, bei denen jeweils Kopf (1) oder \n",
    "Zahl (0) geworfen werden kann. Schreibe eine Python-Funktion, die die \n",
    "Maximum-Likelihood-Schätzung für die unbekannte Wahrscheinlichkeit \"p\" \n",
    "des Münzwurfs berechnet. Zusätzlich zur Berechnung der \n",
    "Maximum-Likelihood-Schätzung soll die Funktion auch die Plug-In\n",
    "Schätzung des Standardfehlers der Verteilung"
   ]
  },
  {
   "cell_type": "code",
   "execution_count": 12,
   "metadata": {},
   "outputs": [],
   "source": [
    "# Input:\n",
    "coin_tosses = [1, 0, 1, 1, 0, 1, 0, 1, 1, 1]"
   ]
  },
  {
   "cell_type": "markdown",
   "metadata": {},
   "source": [
    "Die Funktion sollte folgenden Output haben:"
   ]
  },
  {
   "cell_type": "markdown",
   "metadata": {},
   "source": [
    "``Maximum-Likelihood-Schätzung: 0.7``\\\n",
    "``Standardfehler: 0.21000000000000002``"
   ]
  },
  {
   "cell_type": "code",
   "execution_count": 13,
   "metadata": {},
   "outputs": [],
   "source": [
    "#Lösung:\n",
    "\n",
    "def maximum_likelihood_estimator(coin_tosses):\n",
    "    # Berechne die Maximum-Likelihood-Schätzung von p\n",
    "    n = len(coin_tosses)\n",
    "    num_heads = sum(coin_tosses)\n",
    "    p_hat = num_heads / n\n",
    "\n",
    "    # p_hat wurde mit ML geschätzt, standardfehler ist eine funktion \n",
    "    # von p_hat, p_hat kann also einfach in die funktion eingesetzt \n",
    "    # werden (plug in principle)\n",
    "    # Berechne den Standardfehler der Schätzung von p\n",
    "    std_error = p_hat * (1 - p_hat)\n",
    "\n",
    "    print(\"Maximum-Likelihood-Schätzung:\", p_hat),\n",
    "    print(\"Standardfehler:\", std_error)"
   ]
  },
  {
   "cell_type": "code",
   "execution_count": 14,
   "metadata": {},
   "outputs": [
    {
     "name": "stdout",
     "output_type": "stream",
     "text": [
      "Maximum-Likelihood-Schätzung: 0.7\n",
      "Standardfehler: 0.21000000000000002\n"
     ]
    }
   ],
   "source": [
    "maximum_likelihood_estimator(coin_tosses)"
   ]
  },
  {
   "cell_type": "markdown",
   "metadata": {},
   "source": [
    "# <a id='toc2_'></a>[Lösungen der In-Notebook Aufgaben:](#toc0_)"
   ]
  },
  {
   "cell_type": "markdown",
   "metadata": {},
   "source": [
    "## <a id='toc2_1_'></a>[Ex 1](#toc0_)"
   ]
  },
  {
   "cell_type": "code",
   "execution_count": 15,
   "metadata": {},
   "outputs": [
    {
     "name": "stdout",
     "output_type": "stream",
     "text": [
      "DLROW OLLEH\n"
     ]
    }
   ],
   "source": [
    "s = \"Hello World\"\n",
    "reversed_uppercase = s[::-1].upper()\n",
    "print(reversed_uppercase)"
   ]
  },
  {
   "cell_type": "markdown",
   "metadata": {},
   "source": [
    "## <a id='toc2_2_'></a>[Ex 2](#toc0_)"
   ]
  },
  {
   "cell_type": "code",
   "execution_count": 16,
   "metadata": {},
   "outputs": [
    {
     "name": "stdout",
     "output_type": "stream",
     "text": [
      "Das Alter der jüngsten Person beträgt: 20\n"
     ]
    }
   ],
   "source": [
    "personen = {\"Alice\": 25, \"Bob\": 30, \"Charlie\": 20}\n",
    "juengstes_alter = min(personen.values())\n",
    "print(\"Das Alter der jüngsten Person beträgt:\", juengstes_alter)\n"
   ]
  },
  {
   "cell_type": "markdown",
   "metadata": {},
   "source": [
    "## <a id='toc2_3_'></a>[Ex 3](#toc0_)"
   ]
  },
  {
   "cell_type": "code",
   "execution_count": 19,
   "metadata": {},
   "outputs": [
    {
     "ename": "NameError",
     "evalue": "name 'math' is not defined",
     "output_type": "error",
     "traceback": [
      "\u001b[1;31m---------------------------------------------------------------------------\u001b[0m",
      "\u001b[1;31mNameError\u001b[0m                                 Traceback (most recent call last)",
      "\u001b[1;32m<ipython-input-19-3532e01c560f>\u001b[0m in \u001b[0;36m<module>\u001b[1;34m\u001b[0m\n\u001b[0;32m      6\u001b[0m \u001b[0msigma\u001b[0m \u001b[1;33m=\u001b[0m \u001b[1;36m2\u001b[0m \u001b[1;31m#sigma parameter der normalverteilung (=stand. abweich.)\u001b[0m\u001b[1;33m\u001b[0m\u001b[1;33m\u001b[0m\u001b[0m\n\u001b[0;32m      7\u001b[0m \u001b[1;33m\u001b[0m\u001b[0m\n\u001b[1;32m----> 8\u001b[1;33m DX1 = (1 / (sigma * math.sqrt(2 * math.pi)) * \n\u001b[0m\u001b[0;32m      9\u001b[0m  math.exp(-0.5 * ((x_1 - mu) / sigma)**2)) \n\u001b[0;32m     10\u001b[0m \u001b[1;33m\u001b[0m\u001b[0m\n",
      "\u001b[1;31mNameError\u001b[0m: name 'math' is not defined"
     ]
    }
   ],
   "source": [
    "x_1=1 #observation1,  1er datensatz\n",
    "x_2=2 #observation2, 1er datensatz\n",
    "y_1=3 #observation1, 2ter datensatz\n",
    "y_2=1.5 #observation2, 2ter datensatz\n",
    "mu=3 #mu parameter der normalverteilung (is gleichzeitig Erwartungswert)\n",
    "sigma = 2 #sigma parameter der normalverteilung (=stand. abweich.)\n",
    "\n",
    "DX1 = (1 / (sigma * math.sqrt(2 * math.pi)) * \n",
    " math.exp(-0.5 * ((x_1 - mu) / sigma)**2)) \n",
    "\n",
    "DX2 = (1 / (sigma * math.sqrt(2 * math.pi)) * \n",
    " math.exp(-0.5 * ((x_2 - mu) / sigma)**2)) \n",
    "\n",
    "L1 = DX1 * DX2\n",
    "\n",
    "DY1 = (1 / (sigma * math.sqrt(2 * math.pi)) * \n",
    " math.exp(-0.5 * ((y_1 - mu) / sigma)**2)) \n",
    "\n",
    "DY2 = (1 / (sigma * math.sqrt(2 * math.pi)) * \n",
    " math.exp(-0.5 * ((y_2 - mu) / sigma)**2)) \n",
    "\n",
    "L2 = DY1 * DY2\n",
    "\n",
    "L1 < L2"
   ]
  }
 ],
 "metadata": {
  "kernelspec": {
   "display_name": "Python 3",
   "language": "python",
   "name": "python3"
  },
  "language_info": {
   "codemirror_mode": {
    "name": "ipython",
    "version": 3
   },
   "file_extension": ".py",
   "mimetype": "text/x-python",
   "name": "python",
   "nbconvert_exporter": "python",
   "pygments_lexer": "ipython3",
   "version": "3.7.6"
  },
  "vscode": {
   "interpreter": {
    "hash": "ee972d64e754625b75784eb16d030642e7e5de175c68cf313cdb3c8d9f3d8c00"
   }
  }
 },
 "nbformat": 4,
 "nbformat_minor": 2
}
