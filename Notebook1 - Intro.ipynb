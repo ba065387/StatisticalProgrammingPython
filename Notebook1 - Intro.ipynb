{
 "cells": [
  {
   "cell_type": "markdown",
   "metadata": {},
   "source": [
    "# <a id='toc1_'></a>[Notebook1: Python Basics](#toc0_)"
   ]
  },
  {
   "cell_type": "markdown",
   "metadata": {},
   "source": [
    "**Table of contents**<a id='toc0_'></a>    \n",
    "- [Notebook1: Python Basics](#toc1_)    \n",
    "  - [Was ist Python?](#toc1_1_)    \n",
    "  - [Kommentare](#toc1_2_)    \n",
    "  - [Variablen](#toc1_3_)    \n",
    "  - [Leerzeichen (Whitespaces)](#toc1_4_)    \n",
    "  - [Data Types](#toc1_5_)    \n",
    "    - [Strings](#toc1_5_1_)    \n",
    "      - [str.format()](#toc1_5_1_1_)    \n",
    "      - [str.format()](#toc1_5_1_2_)    \n",
    "      - [str.join()](#toc1_5_1_3_)    \n",
    "      - [str.upper(), str.lower(), str.title()](#toc1_5_1_4_)    \n",
    "      - [str.strip()](#toc1_5_1_5_)    \n",
    "      - [str.split()](#toc1_5_1_6_)    \n",
    "      - [Anwendung mehrerer Methoden](#toc1_5_1_7_)    \n",
    "      - [Escape Symbole](#toc1_5_1_8_)    \n",
    "      - [F-strings](#toc1_5_1_9_)    \n",
    "    - [Numbers](#toc1_5_2_)    \n",
    "      - [Ganze Zahlen (Integer)](#toc1_5_2_1_)    \n",
    "      - [Fließkommazahlen (Floats)](#toc1_5_2_2_)    \n",
    "      - [Komplexe Zahlen (Complex)](#toc1_5_2_3_)    \n",
    "      - [Rechenoperationen](#toc1_5_2_4_)    \n",
    "    - [Boolean](#toc1_5_3_)    \n",
    "    - [Dictionaries](#toc1_5_4_)    \n",
    "    - [Sets](#toc1_5_5_)    \n",
    "    - [Tuples](#toc1_5_6_)    \n",
    "  - [Operatoren](#toc1_6_)    \n",
    "    - [Aritmetische Operatoren](#toc1_6_1_)    \n",
    "    - [Relationale Operatoren](#toc1_6_2_)    \n",
    "    - [Zugehörigkeitsoperatoren (Membership Operators)](#toc1_6_3_)    \n",
    "    - [Logische Operatoren](#toc1_6_4_)    \n",
    "  - [Control Flows](#toc1_7_)    \n",
    "    - [Sequential](#toc1_7_1_)    \n",
    "    - [Selection](#toc1_7_2_)    \n",
    "    - [Repetition](#toc1_7_3_)    \n",
    "  - [Funktionen und Methoden](#toc1_8_)    \n",
    "    - [Funktionen](#toc1_8_1_)    \n",
    "    - [Methoden](#toc1_8_2_)    \n",
    "  - [Help() Funktion](#toc1_9_)    \n",
    "\n",
    "<!-- vscode-jupyter-toc-config\n",
    "\tnumbering=false\n",
    "\tanchor=true\n",
    "\tflat=false\n",
    "\tminLevel=1\n",
    "\tmaxLevel=6\n",
    "\t/vscode-jupyter-toc-config -->\n",
    "<!-- THIS CELL WILL BE REPLACED ON TOC UPDATE. DO NOT WRITE YOUR TEXT IN THIS CELL -->"
   ]
  },
  {
   "cell_type": "markdown",
   "metadata": {},
   "source": [
    "## <a id='toc1_1_'></a>[Was ist Python?](#toc0_)\n",
    "\n",
    "Python ist eine multi-purpose Programmiersprache. Sie eignet sich für die Analyse von Daten, ist dafür - im Gegensatz zu R - nicht primär designed. In diesem ersten Notebook befassen wir uns mit den Grundbausteinen und -funktionalitäten von Python."
   ]
  },
  {
   "cell_type": "markdown",
   "metadata": {},
   "source": [
    "## <a id='toc1_2_'></a>[Kommentare](#toc0_)\n",
    "Generell sollte Code kommentiert werden um dessen Lesbarkeit (für Menschen!) zu erhöhen. \n",
    "\n",
    "* In Python können Kommentare mit mit einem # in das skript eingefügt werden. \n",
    "\n",
    "* Multi line comments können mit triple quation marks erstellt werden."
   ]
  },
  {
   "cell_type": "code",
   "execution_count": null,
   "metadata": {},
   "outputs": [],
   "source": [
    "# Der Testkommentar wird nicht evaluiert."
   ]
  },
  {
   "cell_type": "markdown",
   "metadata": {},
   "source": [
    "## <a id='toc1_3_'></a>[Variablen](#toc0_)\n",
    "Variablen sind \"Platzhalter\" für verschiedene Objekte.\n",
    "\n",
    "* Variablen werden mit einem \"=\" definiert.\n",
    "* Variablen können objekten mit unterschiedlichen data types zugeordnet werden."
   ]
  },
  {
   "cell_type": "code",
   "execution_count": null,
   "metadata": {},
   "outputs": [],
   "source": [
    "# Weise dem Wert 5 die Varbiable a zu:\n",
    "a = 5"
   ]
  },
  {
   "cell_type": "code",
   "execution_count": null,
   "metadata": {},
   "outputs": [],
   "source": [
    "# Weise dem String \"Hello World\" die Variable b zu:\n",
    "b = \"Hello World\""
   ]
  },
  {
   "cell_type": "code",
   "execution_count": null,
   "metadata": {},
   "outputs": [],
   "source": [
    "# Mehrere Zuweisungen können auf einmal getätigt werden.\n",
    "a, b = 100, \"Hola World\""
   ]
  },
  {
   "cell_type": "code",
   "execution_count": null,
   "metadata": {},
   "outputs": [],
   "source": [
    "# Will das Obejekt das durch eine Variable beschrieben wird \n",
    "# sehen, nutzt man die print() funktion:\n",
    "print(a)\n",
    "print(b)"
   ]
  },
  {
   "cell_type": "markdown",
   "metadata": {},
   "source": [
    "* Einige wichtige Notizen zu variable identifiers sind:\n",
    "    - Sie können aus Buchstaben, Zahlen und underscores (_)\n",
    "    bestehen.\n",
    "    - Sonderzeichen können nicht verwendet werden.\n",
    "    - Sie können nicht mit einer Zahl beginnen.\n",
    "    - Sie können keine Elemente sein die anderweitg in der \n",
    "    Python Syntax verwendet werden (if, for, etc)"
   ]
  },
  {
   "cell_type": "markdown",
   "metadata": {},
   "source": [
    "## <a id='toc1_4_'></a>[Leerzeichen (Whitespaces)](#toc0_)\n",
    "Im Unterschied zu R sind whitespaces in Python Teil der Syntax. Das bedeutet, dass diese richtig gesetzt werden müssen."
   ]
  },
  {
   "cell_type": "code",
   "execution_count": null,
   "metadata": {},
   "outputs": [],
   "source": [
    "# Das hier \n",
    "a= 3 #funktioniert\n",
    "b=4 #funktioniert\n",
    "c =1 #funktioniert\n",
    "\n",
    "# for loops (mehr dazu später) haben einen body der sich über mehrere \n",
    "# Zeilen erstrecken kann:\n",
    "\n",
    "for i in [1, 2, 3]:\n",
    "    print(i)        #funktioniert\n",
    "\n",
    "for i in [1, 2, 3]:\n",
    "print(i)            #funktioniert nicht, body nicht indented\n",
    "\n"
   ]
  },
  {
   "cell_type": "markdown",
   "metadata": {},
   "source": [
    "## <a id='toc1_5_'></a>[Data Types](#toc0_)\n",
    "Data types sind ein wichtiges Konzept beim Progammieren. Sie beschreiben Objektmengen (Objekte im abstraken Sinn von Werten) deren Objekte bestimmte Eigenschaften teilen. Kontexabhänig existieren genauere/unterschiedliche Definitionen von data types. Python data types können auf verschiedene Art und Weise strukturiert werden:\n",
    "\n",
    "<img src=\"data/visuals/1_VdLFpmSutr5BSbEeAtpmrQ.jpeg\" width=500 height=300 />\n",
    "\n",
    "<img src=\"data/visuals/python-data-types.jpg\" width=400 height=300 />\n",
    "\n",
    "\n",
    "[source: https://towardsdatascience.com/data-structures-in-python-a-brief-introduction-b4135d7a9b7d]\n",
    "\n",
    "[source: https://pynative.com/python-data-types/]\n",
    "\n",
    "Im folgenden Abschnitt lernen wir die wichtigesten data types kennen."
   ]
  },
  {
   "cell_type": "markdown",
   "metadata": {},
   "source": [
    "### <a id='toc1_5_1_'></a>[Strings](#toc0_)\n",
    "Wir haben Strings bereits kennengelernt, man könnte sie als \"Buchstabenschnippsel\" bezeichnen. Hier einige Beispiele:"
   ]
  },
  {
   "cell_type": "code",
   "execution_count": null,
   "metadata": {},
   "outputs": [],
   "source": [
    "mein_string = \"Ist Python lässiger als R? Wohl kaum\"\n",
    "mein_string\n",
    "type(mein_string)\n",
    "len(mein_string)"
   ]
  },
  {
   "cell_type": "markdown",
   "metadata": {},
   "source": [
    "#### <a id='toc1_5_1_8_'></a>[Escape Symbole](#toc0_)"
   ]
  },
  {
   "cell_type": "code",
   "execution_count": null,
   "metadata": {},
   "outputs": [],
   "source": [
    "zwei_zeilen = \"Erste Zeile\\nZweite Zeile\"\n",
    "print(zwei_zeilen)"
   ]
  },
  {
   "cell_type": "code",
   "execution_count": null,
   "metadata": {},
   "outputs": [],
   "source": [
    "indented = '\\tDas wird indented sein'\n",
    "print(indented)"
   ]
  },
  {
   "cell_type": "markdown",
   "metadata": {},
   "source": [
    "Code sollte eine Zeilenlänge von 79 nicht überschreiten. Bei keinen strukturellen Restriktionen sollte er sogar kürzer als 72 Zeichen sein.\n",
    "Siehe im Python Stlyeguide [PEP8](https://www.python.org/dev/peps/pep-0008/#maximum-line-length)."
   ]
  },
  {
   "cell_type": "code",
   "execution_count": null,
   "metadata": {},
   "outputs": [],
   "source": [
    "langer_string = (\n",
    "    \"Lorem ipsum dolor sit amet, consectetur adipiscing\"\n",
    "    \"elit.Pellentesque eget tincidunt felis. Ut ac vestibulum est.\")\n",
    "\n",
    "\n",
    "print(langer_string)"
   ]
  },
  {
   "cell_type": "markdown",
   "metadata": {},
   "source": [
    "String manipulation ist ein wichtiger Bestandteil bei der Arbeit mit echten Daten. Hier einige Beispiele:"
   ]
  },
  {
   "cell_type": "markdown",
   "metadata": {},
   "source": [
    "#### <a id='toc1_5_1_1_'></a>[str.format()](#toc0_)"
   ]
  },
  {
   "cell_type": "code",
   "execution_count": null,
   "metadata": {},
   "outputs": [],
   "source": [
    "#help(str.replace) man kann help() nutzen wenn man infos über eine \n",
    "#Funktion braucht\n",
    "\n",
    "mein_string.replace(\"R\", \"Python\") # überschreibt mein_string nicht\n",
    "mein_string = mein_string.replace(\"R\", \"Python\", 1) # überschreibt\n",
    "print(mein_string)"
   ]
  },
  {
   "cell_type": "markdown",
   "metadata": {},
   "source": [
    "#### <a id='toc1_5_1_2_'></a>[str.format()](#toc0_)"
   ]
  },
  {
   "cell_type": "code",
   "execution_count": null,
   "metadata": {},
   "outputs": [],
   "source": [
    "geheim = \"{} is cool\".format(\"Python\")\n",
    "print(geheim)"
   ]
  },
  {
   "cell_type": "code",
   "execution_count": null,
   "metadata": {},
   "outputs": [],
   "source": [
    "print(\n",
    "    \"Python says hello to {e}. {z} of them {d} other.\".format(\n",
    "        e = \"R\",\n",
    "        z = \"Both\",\n",
    "        d = \"each\"))"
   ]
  },
  {
   "cell_type": "markdown",
   "metadata": {},
   "source": [
    "#### <a id='toc1_5_1_3_'></a>[str.join()](#toc0_)"
   ]
  },
  {
   "cell_type": "code",
   "execution_count": null,
   "metadata": {},
   "outputs": [],
   "source": [
    "pandas = 'pandas'\n",
    "numpy = 'numpy'\n",
    "requests = 'requests'\n",
    "cool_python_libs = ', '.join([pandas, numpy, requests])"
   ]
  },
  {
   "cell_type": "code",
   "execution_count": null,
   "metadata": {},
   "outputs": [],
   "source": [
    "print('Some cool python libraries: {}'.format(cool_python_libs))"
   ]
  },
  {
   "cell_type": "markdown",
   "metadata": {},
   "source": [
    "#### <a id='toc1_5_1_4_'></a>[str.upper(), str.lower(), str.title()](#toc0_)"
   ]
  },
  {
   "cell_type": "code",
   "execution_count": null,
   "metadata": {},
   "outputs": [],
   "source": [
    "mixed_case = 'PyTHoN hackER'"
   ]
  },
  {
   "cell_type": "code",
   "execution_count": null,
   "metadata": {},
   "outputs": [],
   "source": [
    "mixed_case.upper()"
   ]
  },
  {
   "cell_type": "code",
   "execution_count": null,
   "metadata": {},
   "outputs": [],
   "source": [
    "mixed_case.lower()"
   ]
  },
  {
   "cell_type": "code",
   "execution_count": null,
   "metadata": {},
   "outputs": [],
   "source": [
    "mixed_case.title()"
   ]
  },
  {
   "cell_type": "markdown",
   "metadata": {},
   "source": [
    "#### <a id='toc1_5_1_5_'></a>[str.strip()](#toc0_)"
   ]
  },
  {
   "cell_type": "code",
   "execution_count": null,
   "metadata": {},
   "outputs": [],
   "source": [
    "ugly_formatted = \"\\n \\t Eine Geschichte zum erzählen\"\n",
    "stripped = ugly_formatted.strip() #.strip() removes whitespaces\n",
    "print('ugly: {}'.format(ugly_formatted))\n",
    "print('stripped: {}'.format(ugly_formatted.strip()))"
   ]
  },
  {
   "cell_type": "markdown",
   "metadata": {},
   "source": [
    "#### <a id='toc1_5_1_6_'></a>[str.split()](#toc0_)"
   ]
  },
  {
   "cell_type": "code",
   "execution_count": null,
   "metadata": {},
   "outputs": [],
   "source": [
    "sentence = \"drei unterschiedliche wörter\"\n",
    "words = sentence.split()\n",
    "print(words)"
   ]
  },
  {
   "cell_type": "code",
   "execution_count": null,
   "metadata": {},
   "outputs": [],
   "source": [
    "type(words)"
   ]
  },
  {
   "cell_type": "code",
   "execution_count": null,
   "metadata": {},
   "outputs": [],
   "source": [
    "secret_binary_data = '01001,101101,11100000'\n",
    "binaries = secret_binary_data.split(',')\n",
    "print(binaries)"
   ]
  },
  {
   "cell_type": "markdown",
   "metadata": {},
   "source": [
    "#### <a id='toc1_5_1_7_'></a>[Anwendung mehrerer Methoden](#toc0_)"
   ]
  },
  {
   "cell_type": "code",
   "execution_count": null,
   "metadata": {},
   "outputs": [],
   "source": [
    "ugly_mixed_case = \"      DaS siEht sChleCht aUS\"\n",
    "pretty = ugly_mixed_case.strip().lower().replace(\"schlecht\", \"gut\")\n",
    "print(pretty)\n",
    "\n",
    "#Merke: der Code wird von links nach rechts ausgeführt."
   ]
  },
  {
   "cell_type": "markdown",
   "metadata": {},
   "source": [
    "#### <a id='toc1_5_1_9_'></a>[F-strings](#toc0_)"
   ]
  },
  {
   "cell_type": "markdown",
   "metadata": {},
   "source": [
    "F-strings erlauben sting interpolation:"
   ]
  },
  {
   "cell_type": "code",
   "execution_count": 1,
   "metadata": {},
   "outputs": [
    {
     "data": {
      "text/plain": [
       "'Das BIP der USA ist 21 Billionen USD'"
      ]
     },
     "execution_count": 1,
     "metadata": {},
     "output_type": "execute_result"
    }
   ],
   "source": [
    "land = \"USA\"\n",
    "gdp = 21\n",
    "\n",
    "f\"Das BIP der {land} ist {gdp} Billionen USD\""
   ]
  },
  {
   "cell_type": "markdown",
   "metadata": {},
   "source": [
    "<div class=\"alert alert-block alert-warning\">\n",
    "<font size=\"3\"><b>Aufgabe:</b></font> Schreibt Code der einen \n",
    "String definiert, die Buchstabenreihenfolge umkehrt und alle \n",
    "Buchstaben groß schreibt. </div>"
   ]
  },
  {
   "cell_type": "code",
   "execution_count": 16,
   "metadata": {},
   "outputs": [
    {
     "name": "stdout",
     "output_type": "stream",
     "text": [
      "DLROW OLLEH\n"
     ]
    }
   ],
   "source": [
    "#Lösung:"
   ]
  },
  {
   "cell_type": "markdown",
   "metadata": {},
   "source": [
    "### <a id='toc1_5_2_'></a>[Numbers](#toc0_)\n",
    "In Python gibt es drei Haupttypen von numerischen Daten: \n",
    "Integer (`int`), Float (`float`) und Complex "
   ]
  },
  {
   "cell_type": "markdown",
   "metadata": {},
   "source": [
    "#### <a id='toc1_5_2_1_'></a>[Ganze Zahlen (Integer)](#toc0_)\n",
    "Integer (auch bekannt als ganze Zahlen) können positive,\n",
    " negative oder Null sein und werden in Python durch die Klasse `int` \n",
    " dargestellt."
   ]
  },
  {
   "cell_type": "code",
   "execution_count": null,
   "metadata": {},
   "outputs": [],
   "source": [
    "x = 10\n",
    "y = -5\n",
    "z = 0\n",
    "\n",
    "print(type(x)) # class 'int'\n",
    "print(type(y)) # class 'int'\n",
    "print(type(z)) # class 'int'"
   ]
  },
  {
   "cell_type": "markdown",
   "metadata": {},
   "source": [
    "#### <a id='toc1_5_2_2_'></a>[Fließkommazahlen (Floats)](#toc0_)\n",
    "Floats (auch bekannt als Fließkommazahlen) repräsentieren reelle Zahlen \n",
    "mit einer Dezimalstelle und werden in Python durch die Klasse `float` \n",
    "dargestellt."
   ]
  },
  {
   "cell_type": "code",
   "execution_count": null,
   "metadata": {},
   "outputs": [],
   "source": [
    "a = 10.5\n",
    "b = -3.14\n",
    "c = 0.0\n",
    "\n",
    "print(type(a)) # class 'float'\n",
    "print(type(b)) # class 'float'\n",
    "print(type(c)) # class 'float'"
   ]
  },
  {
   "cell_type": "markdown",
   "metadata": {},
   "source": [
    "#### <a id='toc1_5_2_3_'></a>[Komplexe Zahlen (Complex)](#toc0_)\n",
    "\n",
    "Komplexe Zahlen bestehen aus einem realen und einem imaginären Teil und \n",
    "werden in Python durch die Klasse `complex` dargestellt. "
   ]
  },
  {
   "cell_type": "code",
   "execution_count": null,
   "metadata": {},
   "outputs": [],
   "source": [
    "d = 3 + 4j\n",
    "\n",
    "print(type(d)) # class 'complex'"
   ]
  },
  {
   "cell_type": "markdown",
   "metadata": {},
   "source": [
    "#### <a id='toc1_5_2_4_'></a>[Rechenoperationen](#toc0_)"
   ]
  },
  {
   "cell_type": "code",
   "execution_count": null,
   "metadata": {},
   "outputs": [],
   "source": [
    "# Standard Rechenoperationen:\n",
    "print(3+4) # addition\n",
    "print(3-4) # subtraction\n",
    "print(3*2) # multiplication\n",
    "print(3/2) # division\n",
    "print(7 // 5) # floor division (Division ohne Rest)\n",
    "print(7 % 5) # remainder (Rest)\n",
    "print(2 ** 3) # exponentiation (Exponenz)"
   ]
  },
  {
   "cell_type": "code",
   "execution_count": null,
   "metadata": {},
   "outputs": [],
   "source": [
    "# Das teilen von ints produziert floats:\n",
    "print(1 / 1)\n",
    "print(6 / 5)"
   ]
  },
  {
   "cell_type": "markdown",
   "metadata": {},
   "source": [
    "Promblem mit der binären Darstellung von floats: \n",
    "[Floats](https://docs.python.org/3/tutorial/floatingpoint.html):"
   ]
  },
  {
   "cell_type": "code",
   "execution_count": null,
   "metadata": {},
   "outputs": [],
   "source": [
    "val = 0.1 + 0.1 + 0.1\n",
    "print(val == 0.3)\n",
    "print(val)\n"
   ]
  },
  {
   "cell_type": "markdown",
   "metadata": {},
   "source": [
    "Lösung: Das \"Decimal package\":"
   ]
  },
  {
   "cell_type": "code",
   "execution_count": null,
   "metadata": {},
   "outputs": [],
   "source": [
    "from decimal import Decimal"
   ]
  },
  {
   "cell_type": "code",
   "execution_count": null,
   "metadata": {},
   "outputs": [],
   "source": [
    "from_float = Decimal(0.1)\n",
    "from_str = Decimal('0.1')\n",
    "print('from float: {}\\nfrom string: {}'.format(from_float, from_str))"
   ]
  },
  {
   "cell_type": "code",
   "execution_count": null,
   "metadata": {},
   "outputs": [],
   "source": [
    "my_decimal = Decimal('0.1')\n",
    "sum_of_decimals = my_decimal + my_decimal + my_decimal\n",
    "print(sum_of_decimals == Decimal('0.3'))"
   ]
  },
  {
   "cell_type": "markdown",
   "metadata": {},
   "source": [
    "Merke: Mathematische Vorrangregeln (Punkt vor Strich) gelten wie \n",
    "gewohnt."
   ]
  },
  {
   "cell_type": "markdown",
   "metadata": {},
   "source": [
    "### <a id='toc1_5_3_'></a>[Boolean](#toc0_)\n",
    "\n",
    "Boolean-Datentypen sind einfache Datentypen, die nur die Werte True oder \n",
    "False haben können. Sie werden oft verwendet, um eine Bedingung in \n",
    "einem Programm zu überprüfen.\n",
    "\n",
    "Booleans können in Vergleichsoperatoren verwendet werden, um zwei Werte \n",
    "zu vergleichen und einen Boolean-Wert zurückzugeben. "
   ]
  },
  {
   "cell_type": "code",
   "execution_count": null,
   "metadata": {},
   "outputs": [],
   "source": [
    "print(3 > 2) # True\n",
    "print(3 < 2) # False\n",
    "print(3 == 2) # False\n",
    "print(3 != 2) # True"
   ]
  },
  {
   "cell_type": "markdown",
   "metadata": {},
   "source": [
    "Booleans können auch in Verknüpfungen von Bedingungen verwendet werden,\n",
    "in dem and, or und not verwendet werden:"
   ]
  },
  {
   "cell_type": "code",
   "execution_count": null,
   "metadata": {},
   "outputs": [],
   "source": [
    "print((3 > 2) and (2 < 1)) # False\n",
    "print((3 > 2) or (2 < 1)) # True\n",
    "print(not (3 > 2)) # False"
   ]
  },
  {
   "cell_type": "markdown",
   "metadata": {},
   "source": [
    "In manchen Fällen müss man einen anderen Datentyp in einen Boolean \n",
    "konvertieren:"
   ]
  },
  {
   "cell_type": "code",
   "execution_count": null,
   "metadata": {},
   "outputs": [],
   "source": [
    "print(bool(0)) # False\n",
    "print(bool(1)) # True\n",
    "print(bool([])) # False\n",
    "print(bool([1, 2, 3])) # True\n",
    "print(bool(\"\")) # False\n",
    "print(bool(\"Hello\")) # True"
   ]
  },
  {
   "cell_type": "markdown",
   "metadata": {},
   "source": [
    "### <a id='toc1_5_4_'></a>[Dictionaries](#toc0_)\n",
    "\n",
    "Dictionaries sind ein wichtiger Datentyp in Python und stellen eine \n",
    "assoziative Datenstruktur dar. Sie ermöglichen es, Daten mit einem \n",
    "Schlüssel (Key) zu speichern und mit einem Wert (Value) abzurufen."
   ]
  },
  {
   "cell_type": "code",
   "execution_count": null,
   "metadata": {},
   "outputs": [],
   "source": [
    "person = {} # {} initialisiert ein dictionary\n",
    "\n",
    "print(type(person))\n",
    "\n",
    "# füllt das dictionary:\n",
    "person[\"name\"] = \"John Doe\"\n",
    "person[\"age\"] = 30\n",
    "person[\"email\"] = \"johndoe@example.com\"\n",
    "\n",
    "print(person) \n",
    "\n",
    "# äquivalent zu:\n",
    "print({'name': 'John Doe', 'age': 30, 'email': 'johndoe@example.com'})\n",
    "\n",
    "# oder auch:\n",
    "person = dict(name=\"John Doe\", age=30, email=\"johndoe@example.com\")\n",
    "\n",
    "print(person)"
   ]
  },
  {
   "cell_type": "markdown",
   "metadata": {},
   "source": [
    "Um Werte aus einem Dictionary abzurufen, können Sie den Schlüssel \n",
    "verwenden:"
   ]
  },
  {
   "cell_type": "code",
   "execution_count": null,
   "metadata": {},
   "outputs": [],
   "source": [
    "person = dict(name=\"John Doe\", age=30, email=\"johndoe@example.com\")\n",
    "\n",
    "print(person[\"name\"]) # John Doe\n",
    "print(person[\"age\"]) # 30\n",
    "print(person[\"email\"]) # johndoe@example.com"
   ]
  },
  {
   "cell_type": "markdown",
   "metadata": {},
   "source": [
    "Dictionaries haben viele integrierte Methoden:"
   ]
  },
  {
   "cell_type": "code",
   "execution_count": null,
   "metadata": {},
   "outputs": [],
   "source": [
    "person = dict(name=\"John Doe\", age=30, email=\"johndoe@example.com\")\n",
    "\n",
    "print(len(person)) # 3\n",
    "print(person.keys()) # zeigt die keys \n",
    "print(person.values()) # zeigt die values\n",
    "print(person.items()) # zeigt die key value paare\n"
   ]
  },
  {
   "cell_type": "markdown",
   "metadata": {},
   "source": [
    "<div class=\"alert alert-block alert-warning\">\n",
    "<font size=\"3\"><b>Aufgabe:</b></font> Schreibt Code der ein Dictionary\n",
    "der Namen von 3 Personen und deren Alter erstellt. Lass euch einen \n",
    "String ausgeben der das jüngste Alter ausgibt.</div>"
   ]
  },
  {
   "cell_type": "code",
   "execution_count": 1,
   "metadata": {},
   "outputs": [
    {
     "name": "stdout",
     "output_type": "stream",
     "text": [
      "Das Alter der jüngsten Person beträgt: 20\n"
     ]
    }
   ],
   "source": [
    "#Lösung:"
   ]
  },
  {
   "cell_type": "markdown",
   "metadata": {},
   "source": [
    "### <a id='toc1_5_5_'></a>[Sets](#toc0_)"
   ]
  },
  {
   "cell_type": "markdown",
   "metadata": {},
   "source": [
    "In Python ist ein Set ein unveränderlicher, ungeordneter Datentyp,\n",
    "der eine Sammlung einzigartiger Elemente enthält. Ein Set wird durch \n",
    "geschweifte Klammern {} definiert, wobei die Elemente durch Kommas \n",
    "getrennt werden. Python Sets sind ähnlich den \"Sets\" die man aus der \n",
    "Mathematik kennt."
   ]
  },
  {
   "cell_type": "code",
   "execution_count": null,
   "metadata": {},
   "outputs": [],
   "source": [
    "# Erstellung eines Sets\n",
    "fruits = {'apple', 'banana', 'orange', 'apple'}\n",
    "\n",
    "print(fruits)  # {'orange', 'apple', 'banana'}\n",
    "# Wichtig: Set brücksichtigen immer nur eine Instanz jedes Elements!"
   ]
  },
  {
   "cell_type": "markdown",
   "metadata": {},
   "source": [
    "Hier sind Methoden die auf Sets angewendet werden können: "
   ]
  },
  {
   "cell_type": "code",
   "execution_count": null,
   "metadata": {},
   "outputs": [],
   "source": [
    "# Set-Operationen\n",
    "set1 = {1, 2, 3}\n",
    "set2 = {2, 3, 4}\n",
    "\n",
    "union_set = set1.union(set2)\n",
    "print(union_set)  # {1, 2, 3, 4}\n",
    "\n",
    "intersection_set = set1.intersection(set2)\n",
    "print(intersection_set)  # {2, 3}\n",
    "\n",
    "difference_set = set1.difference(set2)\n",
    "print(difference_set)  # {1}\n",
    "\n",
    "symmetric_difference_set = set1.symmetric_difference(set2)\n",
    "print(symmetric_difference_set)  # {1, 4}\n"
   ]
  },
  {
   "cell_type": "markdown",
   "metadata": {},
   "source": [
    "### <a id='toc1_5_6_'></a>[Tuples](#toc0_)"
   ]
  },
  {
   "cell_type": "markdown",
   "metadata": {},
   "source": [
    "Ein Tuple ein unveränderlicher, geordneter Datentyp, der eine Sammlung \n",
    "von Elementen enthält. Ein Tuple wird durch runde Klammern () definiert, \n",
    "wobei die Elemente durch Kommas getrennt werden.\n",
    "\n",
    "Im Gegensatz zu einer Liste kann ein Tuple nicht nachträglich verändert \n",
    "werden, das heißt, man kann keine Elemente hinzufügen, löschen oder \n",
    "ändern, nachdem es erstellt wurde. Das macht Tuples zu einem nützlichen \n",
    "Datentyp, wenn man sicherstellen will, dass die Elemente in einer \n",
    "Sammlung nicht versehentlich geändert werden."
   ]
  },
  {
   "cell_type": "code",
   "execution_count": null,
   "metadata": {},
   "outputs": [],
   "source": [
    "# Erstellung eines Tuples\n",
    "person = (\"Maximiliane\", \"Musterfrau\", 25)\n",
    "\n",
    "print(person)\n",
    "print(person[0])  # Maximiliane\n",
    "print(person[1])  # Musterfrau\n",
    "print(person[2])  # 25"
   ]
  },
  {
   "cell_type": "markdown",
   "metadata": {},
   "source": [
    "Tuple Unpacking weißt den elementen eines Tuples variablen zu:"
   ]
  },
  {
   "cell_type": "code",
   "execution_count": null,
   "metadata": {},
   "outputs": [],
   "source": [
    "first_name, last_name, age = person\n",
    "\n",
    "print(first_name)  # Maximiliane\n",
    "print(last_name)  # Musterfrau\n",
    "print(age)  # 25\n"
   ]
  },
  {
   "cell_type": "markdown",
   "metadata": {},
   "source": [
    "## <a id='toc1_6_'></a>[Operatoren](#toc0_)"
   ]
  },
  {
   "cell_type": "markdown",
   "metadata": {},
   "source": [
    "Pyton kommt mit einem bekannten Set aus standard mathematischen und \n",
    "logischen Operatoren. "
   ]
  },
  {
   "cell_type": "markdown",
   "metadata": {},
   "source": [
    "### <a id='toc1_6_1_'></a>[Aritmetische Operatoren](#toc0_)"
   ]
  },
  {
   "cell_type": "markdown",
   "metadata": {},
   "source": [
    "Die arithmetischen Operatoren haben wir bereits kennengelernt. Hier ist\n",
    "nochmal eine Übersicht:\n",
    "\n",
    "| Operator |        Name         |\n",
    "|----------|---------------------|\n",
    "|   +      | Addition            |\n",
    "|   -      | Substraction        |\n",
    "|   \\*      | Multiplication      |\n",
    "|   /      | Division            |\n",
    "|   //     | Floor Division      |\n",
    "|   %      | Modulus (Remainder) |\n",
    "|   \\**     | Exponentiation      |"
   ]
  },
  {
   "cell_type": "markdown",
   "metadata": {},
   "source": [
    "### <a id='toc1_6_2_'></a>[Relationale Operatoren](#toc0_)"
   ]
  },
  {
   "cell_type": "markdown",
   "metadata": {},
   "source": [
    "Relationale Operatoren definieren eine Relation zwischen zwei Operanden.\n",
    "Der Output Type einer einer realtionalen Oepration is immer ein\n",
    "boolean value (`True` oder `False`)\n",
    "Hier ist eine Übersicht:\n",
    "\n",
    "| Operator |           Relation       |\n",
    "|----------|--------------------------|\n",
    "|    ==    | Equal to                 |\n",
    "|    !=    | Not equal to             |\n",
    "|    <     | Less than                |\n",
    "|    <=    | Less than or equal to    |\n",
    "|    >     | Greater than             |\n",
    "|    >=    | Greater than or equal to |\n"
   ]
  },
  {
   "cell_type": "markdown",
   "metadata": {},
   "source": [
    "Beispiele:"
   ]
  },
  {
   "cell_type": "code",
   "execution_count": null,
   "metadata": {},
   "outputs": [],
   "source": [
    "x = 10\n",
    "y = 5\n",
    "\n",
    "print(x == y)  # Output: False\n",
    "print(x != y)  # Output: True\n",
    "print(x > y)   # Output: True\n",
    "print(x >= y)  # Output: True\n",
    "print(x < y)   # Output: False\n",
    "print(x <= y)  # Output: False\n",
    "\n",
    "# Verkettung ist möglich:\n",
    "\n",
    "4<6<7 # Output: True"
   ]
  },
  {
   "cell_type": "markdown",
   "metadata": {},
   "source": [
    "### <a id='toc1_6_3_'></a>[Zugehörigkeitsoperatoren (Membership Operators)](#toc0_)"
   ]
  },
  {
   "cell_type": "markdown",
   "metadata": {},
   "source": [
    "Zugehörigkeitsoperatoren in Python werden verwendet, um zu \n",
    "überprüfen, ob ein Wert in einer Sequenz vorhanden ist oder nicht. \n",
    "Es gibt zwei Zugehörigkeitsoperatoren in Python:\n",
    "\n",
    "| Operator |           Operation                                 |\n",
    "|----------|-----------------------------------------------------|\n",
    "|   in     | True if the element belongs to the sequence         |\n",
    "| not in   | True if the element does not belong to the sequence |"
   ]
  },
  {
   "cell_type": "markdown",
   "metadata": {},
   "source": [
    "Beispiele:"
   ]
  },
  {
   "cell_type": "code",
   "execution_count": null,
   "metadata": {},
   "outputs": [],
   "source": [
    "fruits = ['apple', 'banana', 'orange']\n",
    "\n",
    "# In operator:\n",
    "print('apple' in fruits)    # Output: True\n",
    "print('grape' in fruits)    # Output: False\n",
    "\n",
    "# Not in operator:\n",
    "print('apple' not in fruits)  # Output: False\n",
    "print('grape' not in fruits)  # Output: True\n",
    "\n",
    "# Verschiedene Sequenzen sind möglich:\n",
    "\n",
    "print(\"a\" in \"Bamberg\")  #Output: True\n",
    "print(0 not in [1,2,3]) #Output: True"
   ]
  },
  {
   "cell_type": "markdown",
   "metadata": {},
   "source": [
    "### <a id='toc1_6_4_'></a>[Logische Operatoren](#toc0_)"
   ]
  },
  {
   "cell_type": "markdown",
   "metadata": {},
   "source": [
    "| Operator |           Operation                               |\n",
    "|----------|---------------------------------------------------|\n",
    "|    and   | True if both conditions are True. Otherwise False |\n",
    "|    or    | True if one of the conditions is True             |\n",
    "|    not   | It converts True to False and False to True       |"
   ]
  },
  {
   "cell_type": "markdown",
   "metadata": {},
   "source": [
    "Beispiele:"
   ]
  },
  {
   "cell_type": "code",
   "execution_count": null,
   "metadata": {},
   "outputs": [],
   "source": [
    "x = 10\n",
    "y = 5\n",
    "z = 7\n",
    "\n",
    "# And operator\n",
    "print(x > y and x > z)   # Output: True\n",
    "print(x > y and y > z)   # Output: False\n",
    "\n",
    "# Or operator\n",
    "print(x > y or x < z)    # Output: True\n",
    "print(y > x or y > z)    # Output: False\n",
    "\n",
    "# Not operator\n",
    "print(not x > y)         # Output: False\n",
    "print(not y > x)         # Output: True"
   ]
  },
  {
   "cell_type": "markdown",
   "metadata": {},
   "source": [
    "<div class=\"alert alert-block alert-warning\">\n",
    "<font size=\"3\"><b>Aufgabe:</b></font> Schreibt Code der die \n",
    "Likelihood der Normalverteilung für 2 Datenpunkte berechent und \n",
    "vergleicht die Likelihood von jeweils 2 Datenpunkten miteinander.\n",
    "Daten: erster Datensatz x=(1,2), zweiter Datensatz y=(3, 1.5)\n",
    "Erwartungswert = 3, Standardabweichung = 2</div>"
   ]
  },
  {
   "cell_type": "code",
   "execution_count": 2,
   "metadata": {},
   "outputs": [],
   "source": [
    "import math\n",
    "#Lösung:"
   ]
  },
  {
   "cell_type": "markdown",
   "metadata": {},
   "source": [
    "## <a id='toc1_7_'></a>[Control Flows](#toc0_)"
   ]
  },
  {
   "cell_type": "markdown",
   "metadata": {},
   "source": [
    "Kontrollfluss-Anweisungen in Python ermöglichen es, Code bedingt oder \n",
    "wiederholt auszuführen. Es gibt verschiedene Kontrollfluss-Anweisungen \n",
    "in Python, wie z.B. if-Anweisungen, for- und while-Schleifen sowie try- \n",
    "und except-Blöcke. Diese Anweisungen erlauben es, die Reihenfolge und \n",
    "Ausführung des Codes basierend auf bestimmten Bedingungen zu steuern. \n",
    "Mit Control Flows werden wir uns in einem dedizierten Notebook \n",
    "auseinander setzen. Hier jedoch trotzdem schonmal ein kleiner \n",
    "Überblick:\n",
    "\n",
    "Es gibt 3 Control Flow Typen:\n",
    "\n",
    "Sequential - step by step, standard modus\n",
    "Selection - für Entscheidungen und Abzweigungen\n",
    "Repetition - für looping, also denselben code mehrmals durchzuführen. "
   ]
  },
  {
   "cell_type": "markdown",
   "metadata": {},
   "source": [
    "### <a id='toc1_7_1_'></a>[Sequential](#toc0_)"
   ]
  },
  {
   "cell_type": "code",
   "execution_count": null,
   "metadata": {},
   "outputs": [],
   "source": [
    "# Ein sequenzielles statement (wie gewohnt):\n",
    " \n",
    "a=2000\n",
    "b=23\n",
    "year=a+b\n",
    "print(\"Die Addition ergibt: \",year)"
   ]
  },
  {
   "cell_type": "markdown",
   "metadata": {},
   "source": [
    "### <a id='toc1_7_2_'></a>[Selection](#toc0_)"
   ]
  },
  {
   "cell_type": "code",
   "execution_count": null,
   "metadata": {},
   "outputs": [],
   "source": [
    "# Beispiele für Selection:\n",
    "n = 101\n",
    "if n % 2 == 0:\n",
    "   print(\"n ist eine gerade Zahl\") #dieser Code wird nicht ausgeführt\n",
    "else:\n",
    "   print(\"n ist eine ungerade Zahl\")"
   ]
  },
  {
   "cell_type": "markdown",
   "metadata": {},
   "source": [
    "### <a id='toc1_7_3_'></a>[Repetition](#toc0_)"
   ]
  },
  {
   "cell_type": "code",
   "execution_count": null,
   "metadata": {},
   "outputs": [],
   "source": [
    "\n",
    "# Beispiele für Repetition:\n",
    "list = [1, 2, 3, 4, 5]\n",
    "for i in range(len(list)):\n",
    "     print(list[i], end = \" \")\n",
    "\n",
    "for j in range(0,10):\n",
    "     print(j, end = \" \")"
   ]
  },
  {
   "cell_type": "markdown",
   "metadata": {},
   "source": [
    "## <a id='toc1_8_'></a>[Funktionen und Methoden](#toc0_)"
   ]
  },
  {
   "cell_type": "markdown",
   "metadata": {},
   "source": [
    "Dem Thema \"Funktionen und Methoden\" widmen wir ein eigenes Jupyter \n",
    "Skript. Hier ist jedoch schonmal ein kleiner Überblick."
   ]
  },
  {
   "cell_type": "markdown",
   "metadata": {},
   "source": [
    "### <a id='toc1_8_1_'></a>[Funktionen](#toc0_)"
   ]
  },
  {
   "cell_type": "markdown",
   "metadata": {},
   "source": [
    "Eine Python Funktion kann ähnlich einer mathematischen Funktion \n",
    "verstanden werden. Sie sind ein Codeblock der Inputs\n",
    "(verschiedene Datatypes) aufnimmt, verarbeitet und einen Output \n",
    "ausgibt. Hier ist ein Beispiel:"
   ]
  },
  {
   "cell_type": "code",
   "execution_count": null,
   "metadata": {},
   "outputs": [],
   "source": [
    "def meine_function(fname):          # hier wird die Funktion definiert\n",
    "    print(\"der Name ist\", fname)    # Beachte die Indentation nach \"def\"    \n",
    "\n",
    "meine_function(\"Emil\")\n",
    "meine_function(\"Tobias\")\n",
    "meine_function(\"Linus\")"
   ]
  },
  {
   "cell_type": "markdown",
   "metadata": {},
   "source": [
    "### <a id='toc1_8_2_'></a>[Methoden](#toc0_)"
   ]
  },
  {
   "cell_type": "markdown",
   "metadata": {},
   "source": [
    "Methoden sind Funktionen die mit einer bestimmten Class assoziiert \n",
    "sind.\n",
    "\n",
    "Classes sind \"Schablonen\" für Instances. Instances sind wiederum \n",
    "Objekte die einer Class zugeordnet sind."
   ]
  },
  {
   "cell_type": "code",
   "execution_count": null,
   "metadata": {},
   "outputs": [],
   "source": [
    "#Definiere die Class \"Arbeitnehmer\":\n",
    "\n",
    "class Arbeitnehmer:\n",
    "\n",
    "    def __init__(self, Vorname, Name, Gehalt):\n",
    "        self.Vorname = Vorname\n",
    "        self.Name = Name\n",
    "        self.email = Vorname + '.' + Name + '@email.com'\n",
    "        self.Gehalt = Gehalt\n",
    "\n",
    "# Notes: \n",
    "# def steht für \"define\" also was nach def kommt, definiert die Class\n",
    "# das das \"__init__\" statement definiert was bei der Initialisierung \n",
    "# (genauer: \"Instantiation\" der Class = Zuordnung zu einer Variable)\n",
    "# der Class passiert. Das Schlüsselwort \"Self\" definiert den Bezug auf \n",
    "# die Instancevariables der jeweiligen Instance der Class. \n",
    "# Die Instancevariables werden danach definiert (self.Vorname,...).\n",
    "\n",
    "\n",
    "AN_1 = Arbeitnehmer('Lisa', 'Meindl', 50000)\n",
    "AN_2 = Arbeitnehmer('Hans', 'Bauer', 40000)"
   ]
  },
  {
   "cell_type": "code",
   "execution_count": null,
   "metadata": {},
   "outputs": [],
   "source": [
    "print(type(AN_1))\n",
    "print(AN_1.Name)\n",
    "print(AN_2.email)"
   ]
  },
  {
   "cell_type": "code",
   "execution_count": null,
   "metadata": {},
   "outputs": [],
   "source": [
    "#Definiere die Class \"Arbeitnehmer\":\n",
    "\n",
    "class Arbeitnehmer:\n",
    "\n",
    "    def __init__(self, Vorname, Name, Gehalt):\n",
    "        self.Vorname = Vorname\n",
    "        self.Name = Name\n",
    "        self.email = Vorname + '.' + Name + '@email.com'\n",
    "        self.Gehalt = Gehalt\n",
    "\n",
    "    def fullname(self):\n",
    "        return '{} {}'.format(self.Vorname, self.Name)\n",
    "    \n",
    "# Notes: \n",
    "# hier wird für die Class \"Arbeitnehmer\" die Method \"fullname\" \n",
    "# definiert. "
   ]
  },
  {
   "cell_type": "code",
   "execution_count": null,
   "metadata": {},
   "outputs": [],
   "source": [
    "AN_1 = Arbeitnehmer('Lisa', 'Meindl', 50000)\n",
    "\n",
    "# Called die Method \"fullname\" auf die Instance AN_1 der \n",
    "# Class \"Arbeitnehmer\":\n",
    "AN_1.fullname() "
   ]
  },
  {
   "cell_type": "markdown",
   "metadata": {},
   "source": [
    "## <a id='toc1_9_'></a>[Help() Funktion](#toc0_)"
   ]
  },
  {
   "cell_type": "code",
   "execution_count": null,
   "metadata": {},
   "outputs": [],
   "source": [
    "#help für Funktionen:\n",
    "help(print)"
   ]
  },
  {
   "cell_type": "code",
   "execution_count": 13,
   "metadata": {},
   "outputs": [
    {
     "name": "stdout",
     "output_type": "stream",
     "text": [
      "Help on built-in function array in module numpy:\n",
      "\n",
      "array(...)\n",
      "    array(object, dtype=None, *, copy=True, order='K', subok=False, ndmin=0,\n",
      "          like=None)\n",
      "    \n",
      "    Create an array.\n",
      "    \n",
      "    Parameters\n",
      "    ----------\n",
      "    object : array_like\n",
      "        An array, any object exposing the array interface, an object whose\n",
      "        __array__ method returns an array, or any (nested) sequence.\n",
      "    dtype : data-type, optional\n",
      "        The desired data-type for the array.  If not given, then the type will\n",
      "        be determined as the minimum type required to hold the objects in the\n",
      "        sequence.\n",
      "    copy : bool, optional\n",
      "        If true (default), then the object is copied.  Otherwise, a copy will\n",
      "        only be made if __array__ returns a copy, if obj is a nested sequence,\n",
      "        or if a copy is needed to satisfy any of the other requirements\n",
      "        (`dtype`, `order`, etc.).\n",
      "    order : {'K', 'A', 'C', 'F'}, optional\n",
      "        Specify the memory layout of the array. If object is not an array, the\n",
      "        newly created array will be in C order (row major) unless 'F' is\n",
      "        specified, in which case it will be in Fortran order (column major).\n",
      "        If object is an array the following holds.\n",
      "    \n",
      "        ===== ========= ===================================================\n",
      "        order  no copy                     copy=True\n",
      "        ===== ========= ===================================================\n",
      "        'K'   unchanged F & C order preserved, otherwise most similar order\n",
      "        'A'   unchanged F order if input is F and not C, otherwise C order\n",
      "        'C'   C order   C order\n",
      "        'F'   F order   F order\n",
      "        ===== ========= ===================================================\n",
      "    \n",
      "        When ``copy=False`` and a copy is made for other reasons, the result is\n",
      "        the same as if ``copy=True``, with some exceptions for 'A', see the\n",
      "        Notes section. The default order is 'K'.\n",
      "    subok : bool, optional\n",
      "        If True, then sub-classes will be passed-through, otherwise\n",
      "        the returned array will be forced to be a base-class array (default).\n",
      "    ndmin : int, optional\n",
      "        Specifies the minimum number of dimensions that the resulting\n",
      "        array should have.  Ones will be pre-pended to the shape as\n",
      "        needed to meet this requirement.\n",
      "    like : array_like\n",
      "        Reference object to allow the creation of arrays which are not\n",
      "        NumPy arrays. If an array-like passed in as ``like`` supports\n",
      "        the ``__array_function__`` protocol, the result will be defined\n",
      "        by it. In this case, it ensures the creation of an array object\n",
      "        compatible with that passed in via this argument.\n",
      "    \n",
      "        .. versionadded:: 1.20.0\n",
      "    \n",
      "    Returns\n",
      "    -------\n",
      "    out : ndarray\n",
      "        An array object satisfying the specified requirements.\n",
      "    \n",
      "    See Also\n",
      "    --------\n",
      "    empty_like : Return an empty array with shape and type of input.\n",
      "    ones_like : Return an array of ones with shape and type of input.\n",
      "    zeros_like : Return an array of zeros with shape and type of input.\n",
      "    full_like : Return a new array with shape of input filled with value.\n",
      "    empty : Return a new uninitialized array.\n",
      "    ones : Return a new array setting values to one.\n",
      "    zeros : Return a new array setting values to zero.\n",
      "    full : Return a new array of given shape filled with value.\n",
      "    \n",
      "    \n",
      "    Notes\n",
      "    -----\n",
      "    When order is 'A' and `object` is an array in neither 'C' nor 'F' order,\n",
      "    and a copy is forced by a change in dtype, then the order of the result is\n",
      "    not necessarily 'C' as expected. This is likely a bug.\n",
      "    \n",
      "    Examples\n",
      "    --------\n",
      "    >>> np.array([1, 2, 3])\n",
      "    array([1, 2, 3])\n",
      "    \n",
      "    Upcasting:\n",
      "    \n",
      "    >>> np.array([1, 2, 3.0])\n",
      "    array([ 1.,  2.,  3.])\n",
      "    \n",
      "    More than one dimension:\n",
      "    \n",
      "    >>> np.array([[1, 2], [3, 4]])\n",
      "    array([[1, 2],\n",
      "           [3, 4]])\n",
      "    \n",
      "    Minimum dimensions 2:\n",
      "    \n",
      "    >>> np.array([1, 2, 3], ndmin=2)\n",
      "    array([[1, 2, 3]])\n",
      "    \n",
      "    Type provided:\n",
      "    \n",
      "    >>> np.array([1, 2, 3], dtype=complex)\n",
      "    array([ 1.+0.j,  2.+0.j,  3.+0.j])\n",
      "    \n",
      "    Data-type consisting of more than one element:\n",
      "    \n",
      "    >>> x = np.array([(1,2),(3,4)],dtype=[('a','<i4'),('b','<i4')])\n",
      "    >>> x['a']\n",
      "    array([1, 3])\n",
      "    \n",
      "    Creating an array from sub-classes:\n",
      "    \n",
      "    >>> np.array(np.mat('1 2; 3 4'))\n",
      "    array([[1, 2],\n",
      "           [3, 4]])\n",
      "    \n",
      "    >>> np.array(np.mat('1 2; 3 4'), subok=True)\n",
      "    matrix([[1, 2],\n",
      "            [3, 4]])\n",
      "\n"
     ]
    }
   ],
   "source": [
    "#help für Funktionen innherhalb von packages:\n",
    "import numpy as np\n",
    "help(np.array)"
   ]
  },
  {
   "cell_type": "code",
   "execution_count": null,
   "metadata": {},
   "outputs": [],
   "source": [
    "#help für Methoden:\n",
    "help(\"{} is cool\".format)"
   ]
  },
  {
   "cell_type": "code",
   "execution_count": 15,
   "metadata": {},
   "outputs": [
    {
     "name": "stdout",
     "output_type": "stream",
     "text": [
      "\n",
      "Welcome to Python 3.9's help utility!\n",
      "\n",
      "If this is your first time using Python, you should definitely check out\n",
      "the tutorial on the Internet at https://docs.python.org/3.9/tutorial/.\n",
      "\n",
      "Enter the name of any module, keyword, or topic to get help on writing\n",
      "Python programs and using Python modules.  To quit this help utility and\n",
      "return to the interpreter, just type \"quit\".\n",
      "\n",
      "To get a list of available modules, keywords, symbols, or topics, type\n",
      "\"modules\", \"keywords\", \"symbols\", or \"topics\".  Each module also comes\n",
      "with a one-line summary of what it does; to list the modules whose name\n",
      "or summary contain a given string such as \"spam\", type \"modules spam\".\n",
      "\n",
      "Help on built-in function print in module builtins:\n",
      "\n",
      "print(...)\n",
      "    print(value, ..., sep=' ', end='\\n', file=sys.stdout, flush=False)\n",
      "    \n",
      "    Prints the values to a stream, or to sys.stdout by default.\n",
      "    Optional keyword arguments:\n",
      "    file:  a file-like object (stream); defaults to the current sys.stdout.\n",
      "    sep:   string inserted between values, default a space.\n",
      "    end:   string appended after the last value, default a newline.\n",
      "    flush: whether to forcibly flush the stream.\n",
      "\n",
      "No Python documentation found for 'value'.\n",
      "Use help() to get the interactive help utility.\n",
      "Use help(str) for help on the str class.\n",
      "\n",
      "\n",
      "You are now leaving help and returning to the Python interpreter.\n",
      "If you want to ask for help on a particular object directly from the\n",
      "interpreter, you can type \"help(object)\".  Executing \"help('string')\"\n",
      "has the same effect as typing a particular string at the help> prompt.\n"
     ]
    }
   ],
   "source": [
    "#interactive help:\n",
    "help()"
   ]
  }
 ],
 "metadata": {
  "kernelspec": {
   "display_name": "Python 3",
   "language": "python",
   "name": "python3"
  },
  "language_info": {
   "codemirror_mode": {
    "name": "ipython",
    "version": 3
   },
   "file_extension": ".py",
   "mimetype": "text/x-python",
   "name": "python",
   "nbconvert_exporter": "python",
   "pygments_lexer": "ipython3",
   "version": "3.7.6"
  },
  "vscode": {
   "interpreter": {
    "hash": "ee972d64e754625b75784eb16d030642e7e5de175c68cf313cdb3c8d9f3d8c00"
   }
  }
 },
 "nbformat": 4,
 "nbformat_minor": 2
}
